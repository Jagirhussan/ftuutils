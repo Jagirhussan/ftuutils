{
 "cells": [
  {
   "cell_type": "markdown",
   "metadata": {},
   "source": [
    "Example workflow demonstrating the reduction of a large FTU based on clustering cells within the FTU"
   ]
  },
  {
   "cell_type": "code",
   "execution_count": 1,
   "metadata": {},
   "outputs": [],
   "source": [
    "import numpy as np\n",
    "import json\n",
    "from ftuutils import phsutils \n",
    "from ftuutils.graphutils import Lattice2D\n",
    "#Set edge weights based on orientation with respect to conductivity tensor\n",
    "conductivity_tensor = np.array([1.2,0.9,0.5]) #Fibre sheet normal\n",
    "g = Lattice2D(5,5,'APN')\n",
    "g.setFibreConductivity(conductivity_tensor[0])\n",
    "g.setSheetConductivity(conductivity_tensor[1])"
   ]
  },
  {
   "cell_type": "code",
   "execution_count": 2,
   "metadata": {},
   "outputs": [
    {
     "name": "stdout",
     "output_type": "stream",
     "text": [
      "Selected input nodes [ 1  6 11 16 21]\n"
     ]
    }
   ],
   "source": [
    "#Stimulus block is along the left wall\n",
    "#Get the nodes that are on the left edge\n",
    "simb = g.getNodeIdsFromFlag(g.leftNodes)\n",
    "print(\"Selected input nodes\",simb)"
   ]
  },
  {
   "cell_type": "code",
   "execution_count": 3,
   "metadata": {},
   "outputs": [],
   "source": [
    "#Create a dictionary to store connection information\n",
    "phsdata = {}\n",
    "#FTUGraph type assigns a network id, we will use this network for membrane current exchange\n",
    "defaultNetworkId = g.getDefaultNetworkID()\n",
    "#Specify for each PHS class, for each input component the network on which it connects\n",
    "phsdata = phsutils.connect(phsdata , 'APN','i_1',defaultNetworkId) #Connection on u - membrane voltage, network weight has conductivity encoded"
   ]
  },
  {
   "cell_type": "code",
   "execution_count": 4,
   "metadata": {},
   "outputs": [],
   "source": [
    "#Boundary connections are specified as below.\n",
    "#As a convention, boundary networks are negatively numbered\n",
    "\n",
    "#Nodes that receive external input are specified as below\n",
    "# - these are boundary connections and the network number is negative\n",
    "#All external inputs with the same network number share the same input variable,\n",
    "#If different input variables are required for each \n",
    "#external input, provide different network numbers for the nodes\n",
    "#this may be useful for much finer control of inputs.\n",
    "#In this example we assume that all the input nodes are excited by the same stimulus\n",
    "\n",
    "for ein in simb:\n",
    "    phsdata = phsutils.addExternalInput(phsdata,ein,'i_1',-2)\n",
    "\n",
    "#Indicate which networks are dissipative and add the information to the phsdata dictionary\n",
    "networkDissipation = {defaultNetworkId:True}\n",
    "networkNames = {defaultNetworkId:\"ucap\",-2:\"ubar\"}\n",
    "#The dictionary keys networkNames and networkDissipation are keywords for composition logic and must be adhered\n",
    "phsdata[\"networkNames\"] = networkNames\n",
    "phsdata[\"networkDissipation\"] = networkDissipation"
   ]
  },
  {
   "cell_type": "code",
   "execution_count": 5,
   "metadata": {},
   "outputs": [],
   "source": [
    "# Provide Cell type descriptions, these can be constructed by hand, by FTUWeaver or through libbondgraph api\n",
    "# Below we create a single celltype with the name `APN`\n",
    "\n",
    "phsval = r'{\"parameter_values\":{\"eps0\":{\"value\":\"0.002\",\"units\":\"dimensionless\"},\"k\":{\"value\":\"8.0\",\"units\":\"dimensionless\"},\"a\":{\"value\":\"0.13\",\"units\":\"dimensionless\"},\"c0\":{\"value\":\"0.016602\",\"units\":\"dimensionless\"},\"ct\":{\"value\":\"0.0775\",\"units\":\"dimensionless\"},\"mu1\":{\"value\":\"0.2\",\"units\":\"dimensionless\"},\"mu2\":{\"value\":\"0.3\",\"units\":\"dimensionless\"},\"x1\":{\"value\":\"0.0001\",\"units\":\"dimensionless\"},\"x2\":{\"value\":\"0.78\",\"units\":\"dimensionless\"},\"x3\":{\"value\":\"0.2925\",\"units\":\"dimensionless\"},\"eta1\":{\"value\":\"Tai*(Heaviside(u-x2)*Heaviside(x3-Tai)*(x1-c0)+c0)\",\"units\":\"dimensionless\"},\"eta2\":{\"value\":\"Heaviside(u-x2)*Heaviside(x3-Tai)*(x1-c0)+c0\",\"units\":\"dimensionless\"},\"sigma\":{\"value\":\"0.042969\",\"units\":\"dimensionless\"},\"sqpi\":{\"value\":\"sqrt(2*3.141459265)\",\"units\":\"dimensionless\"},\"kV\":{\"value\":\"exp(-0.5*((u-1)/sigma)**2)/(sigma*sqpi)\",\"units\":\"dimensionless\"},\"U\":{\"value\":\"k*u*(u-a)*(1-u)-u*v\",\"units\":\"dimensionless\"},\"V\":{\"value\":\"(eps0+(v*mu1)/(u+mu2))*(-v-k*u*(u-a-1))\",\"units\":\"dimensionless\"}},\"Hderivatives\":{\"cols\":1,\"rows\":4,\"elements\":[\"Tai\",\"Ta\",\"u\",\"v\"]},\"hamiltonianLatex\":\"- Ta c_{0} kV + \\\\frac{Tai^{2} eta1}{2} - \\\\frac{eps0 k u^{3}}{3} + \\\\frac{eps0 k u^{2} \\\\left(a + 1\\\\right)}{2} - i_{1} v\",\"hamiltonian\":\"eps0*k*((a+1)*u**2)/2 - eps0*k*u**3/3 + eta1*Tai**2/2 - c0*kV*Ta - (i_1)*v\",\"portHamiltonianMatrices\":{\"matJ\":{\"cols\":4,\"rows\":4,\"elements\":[\"0\",\"- eta1/2\",\"c0*kV/2\",\"0\",\"eta1/2\",\"0\",\"0\",\"0\",\"-c0*kV/2\",\"0\",\"0\",\"0\",\"0\",\"0\",\"0\",\"0\"]},\"matR\":{\"cols\":4,\"rows\":4,\"elements\":[\"c0\",\"-eta1/2\",\"-c0*kV/2\",\"0\",\"-eta1/2\",\"eta2\",\"0\",\"0\",\"-c0*kV/2\",\"0\",\"-U\",\"0\",\"0\",\"0\",\"0\",\"-V\"]},\"matB\":{\"cols\":4,\"rows\":4,\"elements\":[\"0\",\"0\",\"0\",\"0\",\"0\",\"0\",\"0\",\"0\",\"0\",\"0\",\"1/ct\",\"0\",\"0\",\"0\",\"0\",\"0\"]},\"matBhat\":{\"cols\":0,\"rows\":0,\"elements\":[]},\"matQ\":{\"cols\":4,\"rows\":4,\"elements\":[\"1\",\"0\",\"0\",\"0\",\"0\",\"1\",\"0\",\"0\",\"0\",\"0\",\"1\",\"0\",\"0\",\"0\",\"0\",\"1\"]},\"matE\":{\"cols\":4,\"rows\":4,\"elements\":[\"1\",\"0\",\"0\",\"0\",\"0\",\"1\",\"0\",\"0\",\"0\",\"0\",\"1/ct\",\"0\",\"0\",\"0\",\"0\",\"1/ct\"]},\"matC\":{\"cols\":0,\"rows\":0,\"elements\":[]},\"u\":{\"cols\":1,\"rows\":4,\"elements\":[\"0\",\"0\",\"i_1\",\"0\"]},\"u_connect2boundary\":{\"cols\":1,\"elements\":[false,false,false,false],\"rows\":4}},\"stateVector\":{\"cols\":1,\"rows\":4,\"elements\":[\"Tai\",\"Ta\",\"u\",\"v\"]},\"state_values\":{\"Tai\":{\"value\":0.000,\"units\":\"dimensionless\"},\"Ta\":{\"value\":0.001,\"units\":\"dimensionless\"},\"u\":{\"value\":0,\"units\":\"dimensionless\"},\"v\":{\"value\":0.03604,\"units\":\"dimensionless\"}},\"isphenomenological\":false,\"success\":true}'\n",
    "phstypes = {'APN':json.loads(phsval)}\n",
    "\n",
    "# With the above information and a graph with appropriate node and edge attributes, we can compose a FTU.\n",
    "\n",
    "#Get the graph\n",
    "G = g.getGraph()\n",
    "\n",
    "#Call the FTU composition logic to create a FTU with above information\n",
    "composer = g.composeCompositePHS(G,phstypes,phsdata)"
   ]
  },
  {
   "cell_type": "markdown",
   "metadata": {},
   "source": [
    "Generate the code and solve"
   ]
  },
  {
   "cell_type": "code",
   "execution_count": 6,
   "metadata": {},
   "outputs": [],
   "source": [
    "pycode = composer.exportAsPython()\n",
    "#Save it to a file, run and determine clusters of interest"
   ]
  },
  {
   "cell_type": "markdown",
   "metadata": {},
   "source": [
    "Specifiy cluster groups"
   ]
  },
  {
   "cell_type": "code",
   "execution_count": 8,
   "metadata": {},
   "outputs": [
    {
     "ename": "NameError",
     "evalue": "name 'pickle' is not defined",
     "output_type": "error",
     "traceback": [
      "\u001b[1;31m---------------------------------------------------------------------------\u001b[0m",
      "\u001b[1;31mNameError\u001b[0m                                 Traceback (most recent call last)",
      "Cell \u001b[1;32mIn[8], line 1\u001b[0m\n\u001b[1;32m----> 1\u001b[0m \u001b[38;5;28;01mfrom\u001b[39;00m \u001b[38;5;21;01mftuutils\u001b[39;00m\u001b[38;5;21;01m.\u001b[39;00m\u001b[38;5;21;01mtopologyeditor\u001b[39;00m \u001b[38;5;28;01mimport\u001b[39;00m ReducePHS\n\u001b[0;32m      2\u001b[0m rphs \u001b[38;5;241m=\u001b[39m ReducePHS(composer)\n\u001b[0;32m      3\u001b[0m \u001b[38;5;66;03m#Cluster information - cluster id, cell numbers\u001b[39;00m\n",
      "File \u001b[1;32mD:\\Temp\\gitup\\ftuutils\\src\\ftuutils\\topologyeditor.py:14\u001b[0m\n\u001b[0;32m      9\u001b[0m \u001b[38;5;28;01mfrom\u001b[39;00m \u001b[38;5;21;01mftuutils\u001b[39;00m \u001b[38;5;28;01mimport\u001b[39;00m codegenerationutils, compositionutils\n\u001b[0;32m     10\u001b[0m \u001b[38;5;124;03m'''\u001b[39;00m\n\u001b[0;32m     11\u001b[0m \u001b[38;5;124;03mLogic to edit the topology of an FTU. \u001b[39;00m\n\u001b[0;32m     12\u001b[0m \u001b[38;5;124;03m'''\u001b[39;00m\n\u001b[1;32m---> 14\u001b[0m \u001b[38;5;28;01mclass\u001b[39;00m \u001b[38;5;21;01mReducePHS\u001b[39;00m():\n\u001b[0;32m     15\u001b[0m \u001b[38;5;250m    \u001b[39m\u001b[38;5;124;03m\"\"\"\u001b[39;00m\n\u001b[0;32m     16\u001b[0m \u001b[38;5;124;03m    Instance to reduce the size of the FTU based on clustering some of its nodes together\u001b[39;00m\n\u001b[0;32m     17\u001b[0m \u001b[38;5;124;03m    \"\"\"\u001b[39;00m\n\u001b[0;32m     19\u001b[0m     \u001b[38;5;28;01mdef\u001b[39;00m \u001b[38;5;21m__init__\u001b[39m(\u001b[38;5;28mself\u001b[39m,compositePHSWithStructure):\n",
      "File \u001b[1;32mD:\\Temp\\gitup\\ftuutils\\src\\ftuutils\\topologyeditor.py:771\u001b[0m, in \u001b[0;36mReducePHS\u001b[1;34m()\u001b[0m\n\u001b[0;32m    768\u001b[0m \u001b[38;5;66;03m#with open(r'D:\\12Labours\\GithubRepositories\\FTUUtils\\tests\\data\\Temp\\compositephs.pkl','rb') as js:\u001b[39;00m\n\u001b[0;32m    769\u001b[0m \u001b[38;5;28;01mwith\u001b[39;00m \u001b[38;5;28mopen\u001b[39m(\u001b[38;5;124mr\u001b[39m\u001b[38;5;124m'\u001b[39m\u001b[38;5;124mD:\u001b[39m\u001b[38;5;124m\\\u001b[39m\u001b[38;5;124m12Labours\u001b[39m\u001b[38;5;124m\\\u001b[39m\u001b[38;5;124mGithubRepositories\u001b[39m\u001b[38;5;124m\\\u001b[39m\u001b[38;5;124mFTUUtils\u001b[39m\u001b[38;5;124m\\\u001b[39m\u001b[38;5;124mtests\u001b[39m\u001b[38;5;124m\\\u001b[39m\u001b[38;5;124mdata\u001b[39m\u001b[38;5;124m\\\u001b[39m\u001b[38;5;124mTemp\u001b[39m\u001b[38;5;124m\\\u001b[39m\u001b[38;5;124mapncompositephs.pkl\u001b[39m\u001b[38;5;124m'\u001b[39m,\u001b[38;5;124m'\u001b[39m\u001b[38;5;124mrb\u001b[39m\u001b[38;5;124m'\u001b[39m) \u001b[38;5;28;01mas\u001b[39;00m js:\n\u001b[1;32m--> 771\u001b[0m     phsr \u001b[38;5;241m=\u001b[39m \u001b[43mpickle\u001b[49m\u001b[38;5;241m.\u001b[39mload(js)\n\u001b[0;32m    772\u001b[0m     rphs \u001b[38;5;241m=\u001b[39m ReducePHS(phsr)\n\u001b[0;32m    773\u001b[0m     ng \u001b[38;5;241m=\u001b[39m {\u001b[38;5;241m0\u001b[39m: np\u001b[38;5;241m.\u001b[39marray([ \u001b[38;5;241m0\u001b[39m,  \u001b[38;5;241m5\u001b[39m, \u001b[38;5;241m10\u001b[39m, \u001b[38;5;241m15\u001b[39m, \u001b[38;5;241m20\u001b[39m]), \n\u001b[0;32m    774\u001b[0m           \u001b[38;5;241m1\u001b[39m: np\u001b[38;5;241m.\u001b[39marray([ \u001b[38;5;241m1\u001b[39m,  \u001b[38;5;241m6\u001b[39m, \u001b[38;5;241m11\u001b[39m, \u001b[38;5;241m16\u001b[39m, \u001b[38;5;241m21\u001b[39m]), \n\u001b[0;32m    775\u001b[0m           \u001b[38;5;241m2\u001b[39m: np\u001b[38;5;241m.\u001b[39marray([ \u001b[38;5;241m2\u001b[39m,  \u001b[38;5;241m7\u001b[39m, \u001b[38;5;241m12\u001b[39m, \u001b[38;5;241m17\u001b[39m, \u001b[38;5;241m22\u001b[39m]), \n\u001b[0;32m    776\u001b[0m           \u001b[38;5;241m3\u001b[39m: np\u001b[38;5;241m.\u001b[39marray([ \u001b[38;5;241m3\u001b[39m,  \u001b[38;5;241m8\u001b[39m, \u001b[38;5;241m13\u001b[39m, \u001b[38;5;241m18\u001b[39m, \u001b[38;5;241m23\u001b[39m]), \n\u001b[0;32m    777\u001b[0m           \u001b[38;5;241m4\u001b[39m: np\u001b[38;5;241m.\u001b[39marray([ \u001b[38;5;241m4\u001b[39m,  \u001b[38;5;241m9\u001b[39m, \u001b[38;5;241m14\u001b[39m, \u001b[38;5;241m19\u001b[39m, \u001b[38;5;241m24\u001b[39m])\n\u001b[0;32m    778\u001b[0m           }\n",
      "\u001b[1;31mNameError\u001b[0m: name 'pickle' is not defined"
     ]
    }
   ],
   "source": [
    "from ftuutils.topologyeditor import ReducePHS\n",
    "rphs = ReducePHS(composer)\n",
    "#Cluster information - cluster id, cell numbers\n",
    "ng =   {0: np.array([ 0,  5, 10, 15, 20]), \n",
    "        1: np.array([ 1,  6, 11, 16, 21]), \n",
    "        2: np.array([ 2,  7, 12, 17, 22]), \n",
    "        3: np.array([ 3,  8, 13, 18, 23]), \n",
    "        4: np.array([ 4,  9, 14, 19, 24])\n",
    "        }\n",
    "#Find the average response FTU (default)\n",
    "rphs.setClusters(ng)"
   ]
  },
  {
   "cell_type": "markdown",
   "metadata": {},
   "source": [
    "Export reduced model as code"
   ]
  },
  {
   "cell_type": "code",
   "execution_count": null,
   "metadata": {},
   "outputs": [],
   "source": [
    "pys = rphs.exportAsPython()\n",
    "#Save it to a file, run and determine "
   ]
  }
 ],
 "metadata": {
  "kernelspec": {
   "display_name": "12L",
   "language": "python",
   "name": "python3"
  },
  "language_info": {
   "codemirror_mode": {
    "name": "ipython",
    "version": 3
   },
   "file_extension": ".py",
   "mimetype": "text/x-python",
   "name": "python",
   "nbconvert_exporter": "python",
   "pygments_lexer": "ipython3",
   "version": "3.9.18"
  }
 },
 "nbformat": 4,
 "nbformat_minor": 2
}
