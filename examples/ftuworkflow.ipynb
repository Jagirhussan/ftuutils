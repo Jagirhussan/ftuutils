{
 "cells": [
  {
   "cell_type": "markdown",
   "metadata": {},
   "source": [
    "Example workflow to setup an FTU using APIs, generating executable codes for various experimental designs, and generating code for infering operators from data"
   ]
  },
  {
   "cell_type": "code",
   "execution_count": 1,
   "metadata": {},
   "outputs": [],
   "source": [
    "import numpy as np\n",
    "import json\n",
    "from ftuutils import phsutils"
   ]
  },
  {
   "cell_type": "markdown",
   "metadata": {},
   "source": [
    "Load the positions at which cells exist"
   ]
  },
  {
   "cell_type": "code",
   "execution_count": 2,
   "metadata": {},
   "outputs": [],
   "source": [
    "points = None\n",
    "\n",
    "with open('data/positions.npy', 'rb') as f:\n",
    "    earr = np.load(f)\n",
    "    xarr = np.load(f)\n",
    "    points = np.load(f)"
   ]
  },
  {
   "cell_type": "markdown",
   "metadata": {},
   "source": [
    "For this example we will choose a subset of nodes from the above positions (to reduce problem size)"
   ]
  },
  {
   "cell_type": "code",
   "execution_count": 3,
   "metadata": {},
   "outputs": [
    {
     "name": "stdout",
     "output_type": "stream",
     "text": [
      "Selecting 21 of 64\n"
     ]
    }
   ],
   "source": [
    "np.random.seed(0)\n",
    "pids = np.arange(points.shape[0])\n",
    "np.random.shuffle(pids)\n",
    "maxpoints = pids.shape[0]//3\n",
    "print(f\"Selecting {maxpoints} of {pids.shape[0]}\")\n",
    "spids = pids[:maxpoints]\n",
    "points = points[spids,:]"
   ]
  },
  {
   "cell_type": "markdown",
   "metadata": {},
   "source": [
    "Here we construct a graph based on Delaunay triangulation with constraints on maximum edge lengths. \n",
    "In cases where nodes and their interconnections are known, construct a Networkx graph and a FTUGraph can be created from the Networkx graph"
   ]
  },
  {
   "cell_type": "code",
   "execution_count": 4,
   "metadata": {},
   "outputs": [],
   "source": [
    "from ftuutils.base import FTUDelaunayGraph \n",
    "#Set edge weights based on orientation with respect to conductivity tensor\n",
    "conductivity_tensor = np.array([1.2,0.9,0.5]) #Fibre sheet normal\n",
    "#Parameterised conductivity tensor can also be provided. \n",
    "#These values can be set at the time of creating an experiment\n",
    "conductivity_tensor = np.array(['Df','Ds','Dn'],dtype=str) #Fibre sheet normal\n",
    "g = FTUDelaunayGraph(points,\"APN\",conductivity_tensor)"
   ]
  },
  {
   "cell_type": "markdown",
   "metadata": {},
   "source": [
    "Determine nodes that will be on the boundary i.e. nodes that will communicate with the environment. These nodes need not necessarily be on the physical boundary of the discrete cell network"
   ]
  },
  {
   "cell_type": "code",
   "execution_count": 5,
   "metadata": {},
   "outputs": [
    {
     "name": "stdout",
     "output_type": "stream",
     "text": [
      "Selected input nodes [4, 5, 11, 17]\n"
     ]
    }
   ],
   "source": [
    "#Stimulus block is along the left wall\n",
    "#Find nodes close to x start\n",
    "left = np.min(points,axis=1)\n",
    "leftpoints = np.isclose(points[:,0],left[0])\n",
    "simb = []\n",
    "#Get the nodes that are on the left edge\n",
    "for i,v in enumerate(leftpoints):\n",
    "    if v:\n",
    "        simb.append(i)       \n",
    "print(\"Selected input nodes\",simb)"
   ]
  },
  {
   "cell_type": "markdown",
   "metadata": {},
   "source": [
    "Given a graph describing the cellular interconnections and a set of nodes that exchange energy (input nodes), we can start constructing an FTU (specifically the discrete part of it).\n",
    "\n",
    "The example below uses a modified form of AlievPanfilov Excitation Contraction model that has membrane voltage and active tension as state variables. The model also has an approximate Hamiltonian description."
   ]
  },
  {
   "cell_type": "code",
   "execution_count": 6,
   "metadata": {},
   "outputs": [],
   "source": [
    "#Create a dictionary to store connection information\n",
    "phsdata = {}\n",
    "#FTUGraph type assigns a network id, we will use this network for membrane current exchange\n",
    "defaultNetworkId = g.getDefaultNetworkID()\n",
    "#Specify for each PHS class, for each input component the network on which it connects\n",
    "phsdata = phsutils.connect(phsdata , 'APN','i_1',defaultNetworkId) #Connection on u - membrane voltage, network weight has conductivity encoded"
   ]
  },
  {
   "cell_type": "markdown",
   "metadata": {},
   "source": [
    "Boundary connections are specified as below. As a convention, boundary networks are negatively numbered.\n",
    "\n",
    "Nodes that receive external input are specified as below - these are boundary connections and the network number is negative.\n",
    "All external inputs with the same network number share the same input variable.\n",
    "\n",
    "\n",
    "If different input variables are required for each  external input, provide different network numbers for the nodes this may be useful for much finer control of inputs.\n",
    "\n",
    "In this example we assume that all the input nodes are excited by the same stimulus."
   ]
  },
  {
   "cell_type": "code",
   "execution_count": 7,
   "metadata": {},
   "outputs": [],
   "source": [
    "for ein in simb:\n",
    "    phsdata = phsutils.addExternalInput(phsdata,ein,'i_1',-2)\n",
    "\n",
    "#Indicate which networks are dissipative and add the information to the phsdata dictionary\n",
    "networkDissipation = {defaultNetworkId:True}\n",
    "networkNames = {defaultNetworkId:\"ucap\",-2:\"ubar\"}\n",
    "#The dictionary keys networkNames and networkDissipation are keywords for composition logic and must be adhered\n",
    "phsdata[\"networkNames\"] = networkNames\n",
    "phsdata[\"networkDissipation\"] = networkDissipation"
   ]
  },
  {
   "cell_type": "markdown",
   "metadata": {},
   "source": [
    "Provide Cell type descriptions, these can be constructed by hand, by FTUWeaver or through libbondgraph api.\n",
    "\n",
    "Below we create a single celltype with the name `APN`"
   ]
  },
  {
   "cell_type": "code",
   "execution_count": 8,
   "metadata": {},
   "outputs": [],
   "source": [
    "phsval = r'{\"parameter_values\":{\"eps0\":{\"value\":\"0.002\",\"units\":\"dimensionless\"},\"k\":{\"value\":\"8.0\",\"units\":\"dimensionless\"},\"a\":{\"value\":\"0.13\",\"units\":\"dimensionless\"},\"c0\":{\"value\":\"0.016602\",\"units\":\"dimensionless\"},\"ct\":{\"value\":\"0.0775\",\"units\":\"dimensionless\"},\"mu1\":{\"value\":\"0.2\",\"units\":\"dimensionless\"},\"mu2\":{\"value\":\"0.3\",\"units\":\"dimensionless\"},\"x1\":{\"value\":\"0.0001\",\"units\":\"dimensionless\"},\"x2\":{\"value\":\"0.78\",\"units\":\"dimensionless\"},\"x3\":{\"value\":\"0.2925\",\"units\":\"dimensionless\"},\"eta1\":{\"value\":\"Tai*(Heaviside(u-x2)*Heaviside(x3-Tai)*(x1-c0)+c0)\",\"units\":\"dimensionless\"},\"eta2\":{\"value\":\"Heaviside(u-x2)*Heaviside(x3-Tai)*(x1-c0)+c0\",\"units\":\"dimensionless\"},\"sigma\":{\"value\":\"0.042969\",\"units\":\"dimensionless\"},\"sqpi\":{\"value\":\"sqrt(2*3.141459265)\",\"units\":\"dimensionless\"},\"kV\":{\"value\":\"exp(-0.5*((u-1)/sigma)**2)/(sigma*sqpi)\",\"units\":\"dimensionless\"},\"U\":{\"value\":\"k*u*(u-a)*(1-u)-u*v\",\"units\":\"dimensionless\"},\"V\":{\"value\":\"(eps0+(v*mu1)/(u+mu2))*(-v-k*u*(u-a-1))\",\"units\":\"dimensionless\"}},\"Hderivatives\":{\"cols\":1,\"rows\":4,\"elements\":[\"Tai\",\"Ta\",\"u\",\"v\"]},\"hamiltonianLatex\":\"- Ta c_{0} kV + \\\\frac{Tai^{2} eta1}{2} - \\\\frac{eps0 k u^{3}}{3} + \\\\frac{eps0 k u^{2} \\\\left(a + 1\\\\right)}{2} - i_{1} v\",\"hamiltonian\":\"eps0*k*((a+1)*u**2)/2 - eps0*k*u**3/3 + eta1*Tai**2/2 - c0*kV*Ta - (i_1)*v\",\"portHamiltonianMatrices\":{\"matJ\":{\"cols\":4,\"rows\":4,\"elements\":[\"0\",\"- eta1/2\",\"c0*kV/2\",\"0\",\"eta1/2\",\"0\",\"0\",\"0\",\"-c0*kV/2\",\"0\",\"0\",\"0\",\"0\",\"0\",\"0\",\"0\"]},\"matR\":{\"cols\":4,\"rows\":4,\"elements\":[\"c0\",\"-eta1/2\",\"-c0*kV/2\",\"0\",\"-eta1/2\",\"eta2\",\"0\",\"0\",\"-c0*kV/2\",\"0\",\"-U\",\"0\",\"0\",\"0\",\"0\",\"-V\"]},\"matB\":{\"cols\":4,\"rows\":4,\"elements\":[\"0\",\"0\",\"0\",\"0\",\"0\",\"0\",\"0\",\"0\",\"0\",\"0\",\"1/ct\",\"0\",\"0\",\"0\",\"0\",\"0\"]},\"matBhat\":{\"cols\":0,\"rows\":0,\"elements\":[]},\"matQ\":{\"cols\":4,\"rows\":4,\"elements\":[\"1\",\"0\",\"0\",\"0\",\"0\",\"1\",\"0\",\"0\",\"0\",\"0\",\"1\",\"0\",\"0\",\"0\",\"0\",\"1\"]},\"matE\":{\"cols\":4,\"rows\":4,\"elements\":[\"1\",\"0\",\"0\",\"0\",\"0\",\"1\",\"0\",\"0\",\"0\",\"0\",\"1/ct\",\"0\",\"0\",\"0\",\"0\",\"1/ct\"]},\"matC\":{\"cols\":0,\"rows\":0,\"elements\":[]},\"u\":{\"cols\":1,\"rows\":4,\"elements\":[\"0\",\"0\",\"i_1\",\"0\"]},\"u_connect2boundary\":{\"cols\":1,\"elements\":[false,false,false,false],\"rows\":4}},\"stateVector\":{\"cols\":1,\"rows\":4,\"elements\":[\"Tai\",\"Ta\",\"u\",\"v\"]},\"state_values\":{\"Tai\":{\"value\":0.000,\"units\":\"dimensionless\"},\"Ta\":{\"value\":0.001,\"units\":\"dimensionless\"},\"u\":{\"value\":0,\"units\":\"dimensionless\"},\"v\":{\"value\":0.03604,\"units\":\"dimensionless\"}},\"isphenomenological\":false,\"success\":true}'\n",
    "phstypes = {'APN':json.loads(phsval)}"
   ]
  },
  {
   "cell_type": "markdown",
   "metadata": {},
   "source": [
    "With the above information and a graph with appropriate node and edge attributes, we can compose a FTU."
   ]
  },
  {
   "cell_type": "code",
   "execution_count": 9,
   "metadata": {},
   "outputs": [],
   "source": [
    "#Get the graph\n",
    "G = g.getGraph()\n",
    "\n",
    "#Call the FTU composition logic to create a FTU with above information\n",
    "\n",
    "#composer = g.composeCompositePHS(G,phstypes,phsdata)\n",
    "\n",
    "#The above call will create a composite phs, whose parameters are substituted in the final\n",
    "#expression. Use this approach when the PHS parameters will not be changed to explored in the experiments\n",
    "#When experiments with differing phs parameters need to created, the composite PHS\n",
    "#can be created such that the parameters are not substituted at build time but resolved at runtime\n",
    "#For such approaches use\n",
    "composer = g.composeCompositePHS(G,phstypes,phsdata,substituteParameters=False)"
   ]
  },
  {
   "cell_type": "markdown",
   "metadata": {},
   "source": [
    "If composition was successful, executable python code that simulates the FTU dynamics can be generated. This is the `Full Order Model`\n",
    "\n",
    "Use the following snippet to get this code and save to disk to execute.\n",
    "`FOM_python_code = composer.exportAsPython()`\n",
    "\n",
    "Users are expected to setup the inputs i.e. their magnitude, time and state dependence. The generated code is appropriately commented to help identify these inputs and access time and state variables."
   ]
  },
  {
   "cell_type": "markdown",
   "metadata": {},
   "source": [
    "Determining reduced order models or data driven operators requires the generation of large amount of data covering the input and parameter space of interest (we call this experimental design).\n",
    "To enable this, the composer can export code suitable for a experimental design.\n",
    "This is acheived as follows.\n",
    "\n",
    "The generated python code is similar to the python executable code, but is now encapsulated within a class.\n",
    "The executable code should be used to examine the model, test and also decide in specifiying experiments.\n",
    "If experiments are created, this code is also saved as `FTUStepper.py` in the experiment directory."
   ]
  },
  {
   "cell_type": "code",
   "execution_count": 10,
   "metadata": {},
   "outputs": [],
   "source": [
    "odestepper = composer.exportAsODEStepper()"
   ]
  },
  {
   "cell_type": "markdown",
   "metadata": {},
   "source": [
    "Numerical experiments for data generation can be setup by specifiying various time and state dependent activations of the inputs. \n",
    "The logic specification uses python syntax. \n",
    "##### Key variables are represented as\n",
    "\n",
    "t - time\n",
    "\n",
    "State names and input names.\n",
    "If there is just one Celltype, the state name input names can be used as is\n",
    "For instance, in the above case\n",
    "\n",
    "input is `i_1`\n",
    "\n",
    "the states are `Tai, Ta, u, v`\n",
    "\n",
    "However since states are associated with cells/graph nodes. They need to be prefixed with their node number, for instance\n",
    "`node[1].Ta`\n",
    "\n",
    "The above refers to state value `Ta`, belonging to node[1], here `1` is the label assigned to the node in the graph generation process.\n",
    "\n",
    "Similarly if the composite PHS is composed such that the individual phs parameters are not substituted at composition time, those parameters are also made available using the above syntax, for instance\n",
    "`node[3].eps0`.\n",
    "\n",
    "Where there are more than one celltypes, say `APN`, `FHN`...\n",
    "The states names and phs parameter names are prefixed by the celltype, as `APN_Ta,APN_u`, `FHN_u, FHN_v`.\n",
    "\n",
    "To apply a variation to all nodes, the special operator `*` can be used. For instance, `node[*].Ta = 5.0` will set the state value `Ta` for all nodes to `5.0`.\n",
    "\n",
    "Below we create a single experiment, where the boundary cells are stimulated with a current of `0.5` units between `100<t<110` time units."
   ]
  },
  {
   "cell_type": "code",
   "execution_count": 11,
   "metadata": {},
   "outputs": [],
   "source": [
    "expt1 = \"\"\"\n",
    "i_1 = 0\n",
    "if t>100 and t<110:\n",
    "    i_1 = 0.5\n",
    "\"\"\""
   ]
  },
  {
   "cell_type": "markdown",
   "metadata": {},
   "source": [
    "Experiments are created using the SimulationExperiment instance. An instance of SimulationExperiment requires the composer."
   ]
  },
  {
   "cell_type": "code",
   "execution_count": 12,
   "metadata": {},
   "outputs": [],
   "source": [
    "from ftuutils.simulationutils import SimulationExperiment\n",
    "exptdesigned = SimulationExperiment(composer)\n",
    "\n",
    "#Add experiments - Provide an experiment name, simulation time extent [start,stop, numsteps(int)/stepsize(float <=1)], stimulus logic\n",
    "exptdesigned.addExperiment('test',[0,400,400],expt1)\n",
    "#For experiments that require parameters\n",
    "pblock = \"\"\"\n",
    "Df = 1.5\n",
    "Ds = 0.9\n",
    "Dn = 0.7\n",
    "node[1].eps0 = 1.0\n",
    "\"\"\"\n",
    "exptdesigned.addExperiment('test',[0,400,400],expt1,parameterblock=pblock) #Note that using the same experiment name will overwrite previous record"
   ]
  },
  {
   "cell_type": "markdown",
   "metadata": {},
   "source": [
    "Once the experiments are specified. The SimulationExperiment instance can generate executable code for each experiment and serialize the code to disk."
   ]
  },
  {
   "cell_type": "code",
   "execution_count": 13,
   "metadata": {},
   "outputs": [],
   "source": [
    "#Provide some project provenance information (optional)\n",
    "provenance = {\"Author\":\"JH\",\"Project\":\"FTU workflow demo\"}\n",
    "#Store codes to local directory\n",
    "targetExptDirectory = 'data/Temp/FTUTest'\n",
    "exptdesigned.generate(targetExptDirectory,provenance=provenance,defaultnetworkid=defaultNetworkId)\n",
    "#defaultNetworkId - corresponds to the network whose weights need to be used to generate the divergence operator\n",
    "#this operator will be used to generate divergence field of the Hamiltonian energy on the discrete graph at each time step"
   ]
  },
  {
   "cell_type": "markdown",
   "metadata": {},
   "source": [
    "Below are the contents of the generated directory "
   ]
  },
  {
   "cell_type": "code",
   "execution_count": 14,
   "metadata": {},
   "outputs": [
    {
     "name": "stdout",
     "output_type": "stream",
     "text": [
      "FTUTest/\n",
      "    experimentdesign.json\n",
      "    FTUStepper.py\n",
      "    FTUStepper_test.py\n",
      "    operators.npy\n",
      "    runsimulations.py\n",
      "    data/\n",
      "    modelzoo/\n",
      "        Hamlet4BN11.py\n",
      "        Hamlet4BN17.py\n",
      "        Hamlet4BN4.py\n",
      "        Hamlet4BN5.py\n",
      "        pysr_ham_map.json\n",
      "    pysrcodes/\n",
      "        FindExpressionFor_PHS_APN_Hamiltonian.py\n",
      "        FindHamiltonianTo_Tai_Map.py\n",
      "        FindHamiltonianTo_Ta_Map.py\n",
      "        FindHamiltonianTo_u_Map.py\n",
      "        FindHamiltonianTo_v_Map.py\n",
      "        Neuman2DirichletOp.py\n",
      "    pytorchcodes/\n",
      "        FindHamiltonianTo_Tai_Map.py\n",
      "        FindHamiltonianTo_Ta_Map.py\n",
      "        FindHamiltonianTo_u_Map.py\n",
      "        FindHamiltonianTo_v_Map.py\n",
      "        Neuman2DirichletOp.py\n",
      "        NeuralOp.py\n"
     ]
    }
   ],
   "source": [
    "import os\n",
    "for root, dirs, files in os.walk(targetExptDirectory):\n",
    "    level = root.replace(targetExptDirectory, '').count(os.sep)\n",
    "    indent = ' ' * 4 * (level)\n",
    "    print('{}{}/'.format(indent, os.path.basename(root)))\n",
    "    subindent = ' ' * 4 * (level + 1)\n",
    "    for f in files:\n",
    "        print('{}{}'.format(subindent, f))"
   ]
  }
 ],
 "metadata": {
  "kernelspec": {
   "display_name": "Python 3",
   "language": "python",
   "name": "python3"
  },
  "language_info": {
   "codemirror_mode": {
    "name": "ipython",
    "version": 3
   },
   "file_extension": ".py",
   "mimetype": "text/x-python",
   "name": "python",
   "nbconvert_exporter": "python",
   "pygments_lexer": "ipython3",
   "version": "3.9.18"
  }
 },
 "nbformat": 4,
 "nbformat_minor": 2
}
