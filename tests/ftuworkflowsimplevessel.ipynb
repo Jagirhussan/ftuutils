{
 "cells": [
  {
   "cell_type": "markdown",
   "metadata": {},
   "source": [
    "Example workflow to setup an FTU using APIs, generating executable codes for various experimental designs, and generating code for infering operators from data"
   ]
  },
  {
   "cell_type": "code",
   "execution_count": 40,
   "metadata": {},
   "outputs": [],
   "source": [
    "import numpy as np\n",
    "import sympy\n",
    "from IPython.display import display, Math, Latex\n",
    "#sympy.init_printing(use_latex='mathjax')\n",
    "import json\n",
    "from ftuutils import phsutils"
   ]
  },
  {
   "cell_type": "markdown",
   "metadata": {},
   "source": [
    "Load the positions at which cells exist"
   ]
  },
  {
   "cell_type": "markdown",
   "metadata": {},
   "source": [
    "Here we construct a graph based on Delaunay triangulation with constraints on maximum edge lengths. \n",
    "In cases where nodes and their interconnections are known, construct a Networkx graph and a FTUGraph can be created from the Networkx graph"
   ]
  },
  {
   "cell_type": "code",
   "execution_count": 41,
   "metadata": {},
   "outputs": [],
   "source": [
    "from ftuutils.base import FTUGraph \n",
    "g = FTUGraph()\n",
    "nxg = g.createBaseGraph()\n",
    "#0 is the boundary node\n",
    "g.createInteriorNodes([1,2,3],nxg)\n",
    "#Create edges and set the weights for edges on the default network\n",
    "nxg = g.createEdge(1,2,nxg,g.getDefaultNetworkID(),1.0)\n",
    "nxg = g.createEdge(1,3,nxg,g.getDefaultNetworkID(),1.0)\n",
    "#Set the node PHS descriptor\n",
    "celltypes = {1:\"HBV\",2:\"HBV\",3:\"HBV\"}\n",
    "g.setCellType(celltypes,nxg)"
   ]
  },
  {
   "cell_type": "markdown",
   "metadata": {},
   "source": [
    "Given a graph describing the cellular interconnections and a set of nodes that exchange energy (input nodes), we can start constructing an FTU (specifically the discrete part of it).\n",
    "\n",
    "The example below uses a modified form of AlievPanfilov Excitation Contraction model that has membrane voltage and active tension as state variables. The model also has an approximate Hamiltonian description."
   ]
  },
  {
   "cell_type": "code",
   "execution_count": 42,
   "metadata": {},
   "outputs": [],
   "source": [
    "#Create a dictionary to store connection information\n",
    "phsdata = {}\n",
    "#FTUGraph type assigns a network id, we will use this network for membrane current exchange\n",
    "defaultNetworkId = 1\n",
    "#Specify for each PHS class, for each input component the network on which it connects\n",
    "phsdata = phsutils.connect(phsdata , 'HBV','u1',defaultNetworkId) #Connection on u - flow\n",
    "phsdata = phsutils.connect(phsdata , 'HBV','u3',defaultNetworkId) #Connection on u - flow"
   ]
  },
  {
   "cell_type": "markdown",
   "metadata": {},
   "source": [
    "Boundary connections are specified as below. As a convention, boundary networks are negatively numbered.\n",
    "\n",
    "Nodes that receive external input are specified as below - these are boundary connections and the network number is negative.\n",
    "All external inputs with the same network number share the same input variable.\n",
    "\n",
    "\n",
    "If different input variables are required for each  external input, provide different network numbers for the nodes this may be useful for much finer control of inputs.\n",
    "\n",
    "In this example we assume that all the input nodes are excited by the same stimulus."
   ]
  },
  {
   "cell_type": "code",
   "execution_count": 43,
   "metadata": {},
   "outputs": [],
   "source": [
    "phsdata = phsutils.addExternalInput(phsdata,1,'u1',-2)\n",
    "phsdata = phsutils.addExternalInput(phsdata,1,'u3',-3)\n",
    "\n",
    "#Indicate which networks are dissipative and add the information to the phsdata dictionary\n",
    "networkDissipation = {defaultNetworkId:False}\n",
    "networkNames = {defaultNetworkId:\"ucap\",-2:\"ubarin\",-3:\"ubarout\"}\n",
    "#The dictionary keys networkNames and networkDissipation are keywords for composition logic and must be adhered\n",
    "phsdata[\"networkNames\"] = networkNames\n",
    "phsdata[\"networkDissipation\"] = networkDissipation\n"
   ]
  },
  {
   "cell_type": "markdown",
   "metadata": {},
   "source": [
    "Provide Cell type descriptions, these can be constructed by hand, by FTUWeaver or through libbondgraph api.\n",
    "\n",
    "Below we create a single celltype with the name `APN`"
   ]
  },
  {
   "cell_type": "code",
   "execution_count": 44,
   "metadata": {},
   "outputs": [],
   "source": [
    "#phsval = r'{\"Hderivatives\":{\"cols\":1,\"elements\":[\"\\\\frac{q}{C}\",\"\\\\frac{v}{L}\"],\"rows\":2},\"hamiltonian\":\"(1/2)*(1/C)*q**2 + (1/2)*(1/L)*p_1**2\",\"hamiltonianLatex\":\"\\\\left(\\\\frac{1}{2}\\\\right) \\\\frac{v**2}{L} + \\\\left(\\\\frac{1}{2}\\\\right) \\\\frac{q**2}{C}\",\"parameter_values\":{\"C\":{\"units\":\"L/mPa\",\"value\":\"1.125281e-07\"},\"L\":{\"units\":\"kg/m^4\",\"value\":\"66650\"},\"r\":{\"units\":\"kg*m^-4*s^-1\",\"value\":\"3999000\"},\"u\":{\"units\":\"Pa\",\"value\":\"10000\"}},\"portHamiltonianMatrices\":{\"matB\":{\"cols\":1,\"elements\":[\"0\",\"-1\"],\"rows\":2},\"matE\":{\"cols\":2,\"elements\":[\"1\",\"0\",\"0\",\"1\"],\"rows\":2},\"matJ\":{\"cols\":2,\"elements\":[\"0\",\"1\",\"-1\",\"0\"],\"rows\":2},\"matQ\":{\"cols\":2,\"elements\":[\"1/C\",\"0\",\"0\",\"1/L\"],\"rows\":2},\"matR\":{\"cols\":2,\"elements\":[\"0\",\"0\",\"0\",\"r\"],\"rows\":2},\"u\":{\"cols\":1,\"elements\":[\"u\"],\"rows\":1},\"u_ispotential\":{\"cols\":1,\"elements\":[true],\"rows\":1},\"u_orientation\":{\"cols\":1,\"elements\":[true],\"rows\":1},\"u_split\":{\"cols\":1,\"elements\":[1],\"rows\":1},\"u_connect2boundary\":{\"cols\":1,\"elements\":[false],\"rows\":1}},\"stateVector\":{\"cols\":1,\"elements\":[\"q\",\"v\"],\"rows\":2},\"state_values\":{\"v\":{\"units\":\"Pa*s\",\"value\":\"0\"},\"q\":{\"units\":\"m^3\",\"value\":\"0\"}},\"success\":true}'\n",
    "phsval = r'{\"Hderivatives\":{\"cols\":1,\"elements\":[\"\\\\frac{q}{C}\",\"\\\\frac{p1}{L1}\",\"\\\\frac{p2}{L2}\"],\"rows\":3},\"hamiltonian\":\"(1/2)*(1/C)*q_0**2 + (1/2)*(1/L_1)*p_1**2 + (1/2)*(1/L_2)*p_2**2\",\"hamiltonianLatex\":\"\\\\left(\\\\frac{1}{2}\\\\right) \\\\frac{p1^2}{L1} + \\\\left(\\\\frac{1}{2}\\\\right) \\\\frac{p2^2}{L2} + \\\\left(\\\\frac{1}{2}\\\\right) \\\\frac{q^2}{C}\",\"parameter_values\":{\"C\":{\"units\":\"L/mPa\",\"value\":\"1.125281e-07\"},\"L1\":{\"units\":\"kg/m^4\",\"value\":\"66650\"},\"L2\":{\"units\":\"kg/m^4\",\"value\":\"66650\"},\"r1\":{\"units\":\"kg*m^-4*s^-1\",\"value\":\"3999000\"},\"r2\":{\"units\":\"kg*m^-4*s^-1\",\"value\":\"3999000\"},\"u_of_u_1\":{\"units\":\"Pa\",\"value\":\"10000\"},\"u3\":{\"units\":\"Pa\",\"value\":\"5000\"}},\"portHamiltonianMatrices\":{\"matB\":{\"cols\":2,\"elements\":[\"0\",\"0\",\"-1\",\"0\",\"0\",\"1\"],\"rows\":3},\"matE\":{\"cols\":3,\"elements\":[\"1\",\"0\",\"0\",\"0\",\"1\",\"0\",\"0\",\"0\",\"1\"],\"rows\":3},\"matJ\":{\"cols\":3,\"elements\":[\"0\",\"1\",\"-1\",\"-1\",\"0\",\"0\",\"1\",\"0\",\"0\"],\"rows\":3},\"matQ\":{\"cols\":3,\"elements\":[\"C**-1\",\"0\",\"0\",\"0\",\"L1**-1\",\"0\",\"0\",\"0\",\"L2**-1\"],\"rows\":3},\"matR\":{\"cols\":3,\"elements\":[\"0\",\"0\",\"0\",\"0\",\"r1\",\"0\",\"0\",\"0\",\"r2\"],\"rows\":3},\"u\":{\"cols\":1,\"elements\":[\"u1\",\"u3\"],\"rows\":2},\"u_ispotential\":{\"cols\":1,\"elements\":[true,true],\"rows\":2},\"u_orientation\":{\"cols\":1,\"elements\":[true,false],\"rows\":2},\"u_split\":{\"cols\":1,\"elements\":[1,1],\"rows\":2},\"u_connect2boundary\":{\"cols\":1,\"elements\":[false,false],\"rows\":2}},\"stateVector\":{\"cols\":1,\"elements\":[\"q\",\"p1\",\"p2\"],\"rows\":3},\"state_values\":{\"p1\":{\"units\":\"Pa*s\",\"value\":\"0\"},\"p2\":{\"units\":\"Pa*s\",\"value\":\"0\"},\"q\":{\"units\":\"m^3\",\"value\":\"0\"}},\"success\":true}'\n",
    "phstypes = {'HBV':json.loads(phsval)}"
   ]
  },
  {
   "cell_type": "markdown",
   "metadata": {},
   "source": [
    "With the above information and a graph with appropriate node and edge attributes, we can compose a FTU."
   ]
  },
  {
   "cell_type": "code",
   "execution_count": 45,
   "metadata": {},
   "outputs": [],
   "source": [
    "#Call the FTU composition logic to create a FTU with above information\n",
    "\n",
    "#composer = g.composeCompositePHS(G,phstypes,phsdata)\n",
    "\n",
    "#The above call will create a composite phs, whose parameters are substituted in the final\n",
    "#expression. Use this approach when the PHS parameters will not be changed to explored in the experiments\n",
    "#When experiments with differing phs parameters need to created, the composite PHS\n",
    "#can be created such that the parameters are not substituted at build time but resolved at runtime\n",
    "#For such approaches use\n",
    "composer = g.composeCompositePHS(nxg,phstypes,phsdata,substituteParameters=False)"
   ]
  },
  {
   "cell_type": "code",
   "execution_count": 52,
   "metadata": {},
   "outputs": [
    {
     "name": "stdout",
     "output_type": "stream",
     "text": [
      "\\left[\\begin{matrix}0 & 0 & -1.0 & 0 & -1.0 & 0\\\\0 & 0 & 0 & -1.0 & 0 & -1.0\\\\1.0 & 0 & 0 & 0 & 0 & 0\\\\0 & 1.0 & 0 & 0 & 0 & 0\\\\1.0 & 0 & 0 & 0 & 0 & 0\\\\0 & 1.0 & 0 & 0 & 0 & 0\\end{matrix}\\right]\n"
     ]
    }
   ],
   "source": [
    "composer.Cmatrix\n",
    "print(sympy.latex(composer.Cmatrix))"
   ]
  },
  {
   "cell_type": "code",
   "execution_count": 46,
   "metadata": {},
   "outputs": [],
   "source": [
    "phsmat = composer.compositePHS"
   ]
  },
  {
   "cell_type": "code",
   "execution_count": 47,
   "metadata": {},
   "outputs": [
    {
     "data": {
      "text/latex": [
       "$\\displaystyle \\left[\\begin{matrix}- \\frac{p_{2 1}}{L_{2 1}} + \\frac{p_{1 1}}{L_{1 1}}\\\\- u_{1 2} - 1.0 u_{p1 2} - 1.0 u_{p1 3} - \\frac{p_{1 1} r_{1 1}}{L_{1 1}} - \\frac{q_{1}}{C_{1}}\\\\u_{3 3} - 1.0 u_{p2 2} - 1.0 u_{p2 3} - \\frac{p_{2 1} r_{2 1}}{L_{2 1}} + \\frac{q_{1}}{C_{1}}\\\\- \\frac{p_{2 2}}{L_{2 2}} + \\frac{p_{1 2}}{L_{1 2}}\\\\1.0 u_{p1 1} - \\frac{p_{1 2} r_{1 2}}{L_{1 2}} - \\frac{q_{2}}{C_{2}}\\\\1.0 u_{p2 1} - \\frac{p_{2 2} r_{2 2}}{L_{2 2}} + \\frac{q_{2}}{C_{2}}\\\\- \\frac{p_{2 3}}{L_{2 3}} + \\frac{p_{1 3}}{L_{1 3}}\\\\1.0 u_{p1 1} - \\frac{p_{1 3} r_{1 3}}{L_{1 3}} - \\frac{q_{3}}{C_{3}}\\\\1.0 u_{p2 1} - \\frac{p_{2 3} r_{2 3}}{L_{2 3}} + \\frac{q_{3}}{C_{3}}\\end{matrix}\\right]$"
      ],
      "text/plain": [
       "Matrix([\n",
       "[                                    -p2_1/L2_1 + p1_1/L1_1],\n",
       "[-u1_2 - 1.0*u_p1_2 - 1.0*u_p1_3 - p1_1*r1_1/L1_1 - q_1/C_1],\n",
       "[ u3_3 - 1.0*u_p2_2 - 1.0*u_p2_3 - p2_1*r2_1/L2_1 + q_1/C_1],\n",
       "[                                    -p2_2/L2_2 + p1_2/L1_2],\n",
       "[                     1.0*u_p1_1 - p1_2*r1_2/L1_2 - q_2/C_2],\n",
       "[                     1.0*u_p2_1 - p2_2*r2_2/L2_2 + q_2/C_2],\n",
       "[                                    -p2_3/L2_3 + p1_3/L1_3],\n",
       "[                     1.0*u_p1_1 - p1_3*r1_3/L1_3 - q_3/C_3],\n",
       "[                     1.0*u_p2_1 - p2_3*r2_3/L2_3 + q_3/C_3]])"
      ]
     },
     "execution_count": 47,
     "metadata": {},
     "output_type": "execute_result"
    }
   ],
   "source": [
    "stateVec = sympy.Matrix(composer.stateVec)\n",
    "ucapVec = sympy.Matrix([f\"u_{s}\" for s in composer.stateVec])\n",
    "Ccap = composer.uyConnectionMatrix\n",
    "Delx = composer.Qcap * stateVec  # Potential\n",
    "# Since E^-1 can be expensive, we will scale by the rate diagonal value of E for that component\n",
    "Einv = sympy.eye(composer.Ecap.shape[0])\n",
    "for i in range(composer.Ecap.shape[0]):\n",
    "    Einv[i, i] = 1 / composer.Ecap[i, i]\n",
    "JRQx = (composer.Jcap - composer.Rcap) * Delx\n",
    "interioru = composer.Bcap * Ccap * (composer.Bcap.T) * ucapVec\n",
    "exterioru = composer.Bdas * sympy.Matrix(composer.uVecSymbols).T\n",
    "rhs = sympy.SparseMatrix(Einv * (JRQx - interioru + exterioru))\n",
    "rhs"
   ]
  },
  {
   "cell_type": "code",
   "execution_count": 53,
   "metadata": {},
   "outputs": [
    {
     "name": "stdout",
     "output_type": "stream",
     "text": [
      "Matrix([[u_q_1], [u_p1_1], [u_p2_1], [u_q_2], [u_p1_2], [u_p2_2], [u_q_3], [u_p1_3], [u_p2_3]])\n"
     ]
    }
   ],
   "source": [
    "print(ucapVec)"
   ]
  },
  {
   "cell_type": "code",
   "execution_count": 48,
   "metadata": {},
   "outputs": [
    {
     "data": {
      "text/latex": [
       "$\\displaystyle \\left[\\begin{matrix}0 & 0\\\\-1 & 0\\\\0 & 1\\\\0 & 0\\\\0 & 0\\\\0 & 0\\\\0 & 0\\\\0 & 0\\\\0 & 0\\end{matrix}\\right]$"
      ],
      "text/plain": [
       "Matrix([\n",
       "[ 0, 0],\n",
       "[-1, 0],\n",
       "[ 0, 1],\n",
       "[ 0, 0],\n",
       "[ 0, 0],\n",
       "[ 0, 0],\n",
       "[ 0, 0],\n",
       "[ 0, 0],\n",
       "[ 0, 0]])"
      ]
     },
     "execution_count": 48,
     "metadata": {},
     "output_type": "execute_result"
    }
   ],
   "source": [
    "composer.Bdas"
   ]
  },
  {
   "cell_type": "code",
   "execution_count": 49,
   "metadata": {},
   "outputs": [
    {
     "data": {
      "text/latex": [
       "$\\displaystyle \\left[\\begin{matrix}0 & 0 & 0 & 0 & 0 & 0\\\\1 & 0 & 0 & 0 & 0 & 0\\\\0 & 1 & 0 & 0 & 0 & 0\\\\0 & 0 & 0 & 0 & 0 & 0\\\\0 & 0 & 1 & 0 & 0 & 0\\\\0 & 0 & 0 & 1 & 0 & 0\\\\0 & 0 & 0 & 0 & 0 & 0\\\\0 & 0 & 0 & 0 & 1 & 0\\\\0 & 0 & 0 & 0 & 0 & 1\\end{matrix}\\right]$"
      ],
      "text/plain": [
       "Matrix([\n",
       "[0, 0, 0, 0, 0, 0],\n",
       "[1, 0, 0, 0, 0, 0],\n",
       "[0, 1, 0, 0, 0, 0],\n",
       "[0, 0, 0, 0, 0, 0],\n",
       "[0, 0, 1, 0, 0, 0],\n",
       "[0, 0, 0, 1, 0, 0],\n",
       "[0, 0, 0, 0, 0, 0],\n",
       "[0, 0, 0, 0, 1, 0],\n",
       "[0, 0, 0, 0, 0, 1]])"
      ]
     },
     "execution_count": 49,
     "metadata": {},
     "output_type": "execute_result"
    }
   ],
   "source": [
    "composer.Bcap"
   ]
  },
  {
   "cell_type": "markdown",
   "metadata": {},
   "source": [
    "If composition was successful, executable python code that simulates the FTU dynamics can be generated. This is the `Full Order Model`\n",
    "\n",
    "Use the following snippet to get this code and save to disk to execute.\n",
    "`FOM_python_code = composer.exportAsPython()`\n",
    "\n",
    "Users are expected to setup the inputs i.e. their magnitude, time and state dependence. The generated code is appropriately commented to help identify these inputs and access time and state variables."
   ]
  },
  {
   "cell_type": "markdown",
   "metadata": {},
   "source": [
    "Determining reduced order models or data driven operators requires the generation of large amount of data covering the input and parameter space of interest (we call this experimental design).\n",
    "To enable this, the composer can export code suitable for a experimental design.\n",
    "This is acheived as follows.\n",
    "\n",
    "The generated python code is similar to the python executable code, but is now encapsulated within a class.\n",
    "The executable code should be used to examine the model, test and also decide in specifiying experiments.\n",
    "If experiments are created, this code is also saved as `FTUStepper.py` in the experiment directory."
   ]
  },
  {
   "cell_type": "code",
   "execution_count": 50,
   "metadata": {},
   "outputs": [],
   "source": [
    "odestepper = composer.exportAsODEStepper()"
   ]
  }
 ],
 "metadata": {
  "kernelspec": {
   "display_name": "Python 3",
   "language": "python",
   "name": "python3"
  },
  "language_info": {
   "codemirror_mode": {
    "name": "ipython",
    "version": 3
   },
   "file_extension": ".py",
   "mimetype": "text/x-python",
   "name": "python",
   "nbconvert_exporter": "python",
   "pygments_lexer": "ipython3",
   "version": "3.9.18"
  }
 },
 "nbformat": 4,
 "nbformat_minor": 2
}
