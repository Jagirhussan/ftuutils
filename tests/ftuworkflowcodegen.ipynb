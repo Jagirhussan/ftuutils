{
 "cells": [
  {
   "cell_type": "markdown",
   "metadata": {},
   "source": [
    "Example workflow to setup an FTU using APIs, generating executable codes for various experimental designs, and generating code for infering operators from data"
   ]
  },
  {
   "cell_type": "code",
   "execution_count": 1,
   "metadata": {},
   "outputs": [],
   "source": [
    "import numpy as np\n",
    "import json\n",
    "from ftuutils import phsutils"
   ]
  },
  {
   "cell_type": "markdown",
   "metadata": {},
   "source": [
    "Load the positions at which cells exist"
   ]
  },
  {
   "cell_type": "code",
   "execution_count": 3,
   "metadata": {},
   "outputs": [],
   "source": [
    "points = None\n",
    "\n",
    "with open('../examples/data/positions.npy', 'rb') as f:\n",
    "    earr = np.load(f)\n",
    "    xarr = np.load(f)\n",
    "    points = np.load(f)"
   ]
  },
  {
   "cell_type": "markdown",
   "metadata": {},
   "source": [
    "For this example we will choose a subset of nodes from the above positions (to reduce problem size)"
   ]
  },
  {
   "cell_type": "code",
   "execution_count": 4,
   "metadata": {},
   "outputs": [
    {
     "name": "stdout",
     "output_type": "stream",
     "text": [
      "Selecting 5 of 64\n"
     ]
    }
   ],
   "source": [
    "np.random.seed(0)\n",
    "pids = np.arange(points.shape[0])\n",
    "np.random.shuffle(pids)\n",
    "maxpoints = pids.shape[0]//12\n",
    "print(f\"Selecting {maxpoints} of {pids.shape[0]}\")\n",
    "spids = pids[:maxpoints]\n",
    "points = points[spids,:]"
   ]
  },
  {
   "cell_type": "markdown",
   "metadata": {},
   "source": [
    "Here we construct a graph based on Delaunay triangulation with constraints on maximum edge lengths. \n",
    "In cases where nodes and their interconnections are known, construct a Networkx graph and a FTUGraph can be created from the Networkx graph"
   ]
  },
  {
   "cell_type": "code",
   "execution_count": 5,
   "metadata": {},
   "outputs": [],
   "source": [
    "from ftuutils.base import FTUDelaunayGraph \n",
    "#Set edge weights based on orientation with respect to conductivity tensor\n",
    "conductivity_tensor = np.array([1.2,0.9,0.5]) #Fibre sheet normal\n",
    "#Parameterised conductivity tensor can also be provided. \n",
    "#These values can be set at the time of creating an experiment\n",
    "conductivity_tensor = np.array(['Df','Ds','Dn'],dtype=str) #Fibre sheet normal\n",
    "g = FTUDelaunayGraph(points,\"APN\",conductivity_tensor)"
   ]
  },
  {
   "cell_type": "markdown",
   "metadata": {},
   "source": [
    "Determine nodes that will be on the boundary i.e. nodes that will communicate with the environment. These nodes need not necessarily be on the physical boundary of the discrete cell network"
   ]
  },
  {
   "cell_type": "code",
   "execution_count": 6,
   "metadata": {},
   "outputs": [
    {
     "name": "stdout",
     "output_type": "stream",
     "text": [
      "Selected input nodes [4]\n"
     ]
    }
   ],
   "source": [
    "#Stimulus block is along the left wall\n",
    "#Find nodes close to x start\n",
    "left = np.min(points,axis=1)\n",
    "leftpoints = np.isclose(points[:,0],left[0])\n",
    "simb = []\n",
    "#Get the nodes that are on the left edge\n",
    "for i,v in enumerate(leftpoints):\n",
    "    if v:\n",
    "        simb.append(i)       \n",
    "print(\"Selected input nodes\",simb)"
   ]
  },
  {
   "cell_type": "markdown",
   "metadata": {},
   "source": [
    "Given a graph describing the cellular interconnections and a set of nodes that exchange energy (input nodes), we can start constructing an FTU (specifically the discrete part of it).\n",
    "\n",
    "The example below uses a modified form of AlievPanfilov Excitation Contraction model that has membrane voltage and active tension as state variables. The model also has an approximate Hamiltonian description."
   ]
  },
  {
   "cell_type": "code",
   "execution_count": 7,
   "metadata": {},
   "outputs": [],
   "source": [
    "#Create a dictionary to store connection information\n",
    "phsdata = {}\n",
    "#FTUGraph type assigns a network id, we will use this network for membrane current exchange\n",
    "defaultNetworkId = g.getDefaultNetworkID()\n",
    "#Specify for each PHS class, for each input component the network on which it connects\n",
    "phsdata = phsutils.connect(phsdata , 'APN','i_1',defaultNetworkId) #Connection on u - membrane voltage, network weight has conductivity encoded"
   ]
  },
  {
   "cell_type": "markdown",
   "metadata": {},
   "source": [
    "Boundary connections are specified as below. As a convention, boundary networks are negatively numbered.\n",
    "\n",
    "Nodes that receive external input are specified as below - these are boundary connections and the network number is negative.\n",
    "All external inputs with the same network number share the same input variable.\n",
    "\n",
    "\n",
    "If different input variables are required for each  external input, provide different network numbers for the nodes this may be useful for much finer control of inputs.\n",
    "\n",
    "In this example we assume that all the input nodes are excited by the same stimulus."
   ]
  },
  {
   "cell_type": "code",
   "execution_count": 8,
   "metadata": {},
   "outputs": [],
   "source": [
    "for ein in simb:\n",
    "    phsdata = phsutils.addExternalInput(phsdata,ein,'i_1',-2)\n",
    "\n",
    "#Indicate which networks are dissipative and add the information to the phsdata dictionary\n",
    "networkDissipation = {defaultNetworkId:True}\n",
    "networkNames = {defaultNetworkId:\"ucap\",-2:\"ubar\"}\n",
    "#The dictionary keys networkNames and networkDissipation are keywords for composition logic and must be adhered\n",
    "phsdata[\"networkNames\"] = networkNames\n",
    "phsdata[\"networkDissipation\"] = networkDissipation"
   ]
  },
  {
   "cell_type": "markdown",
   "metadata": {},
   "source": [
    "Provide Cell type descriptions, these can be constructed by hand, by FTUWeaver or through libbondgraph api.\n",
    "\n",
    "Below we create a single celltype with the name `APN`"
   ]
  },
  {
   "cell_type": "code",
   "execution_count": 9,
   "metadata": {},
   "outputs": [],
   "source": [
    "phsval = r'{\"parameter_values\":{\"eps0\":{\"value\":\"0.002\",\"units\":\"dimensionless\"},\"k\":{\"value\":\"8.0\",\"units\":\"dimensionless\"},\"a\":{\"value\":\"0.13\",\"units\":\"dimensionless\"},\"c0\":{\"value\":\"0.016602\",\"units\":\"dimensionless\"},\"ct\":{\"value\":\"0.0775\",\"units\":\"dimensionless\"},\"mu1\":{\"value\":\"0.2\",\"units\":\"dimensionless\"},\"mu2\":{\"value\":\"0.3\",\"units\":\"dimensionless\"},\"x1\":{\"value\":\"0.0001\",\"units\":\"dimensionless\"},\"x2\":{\"value\":\"0.78\",\"units\":\"dimensionless\"},\"x3\":{\"value\":\"0.2925\",\"units\":\"dimensionless\"},\"eta1\":{\"value\":\"Tai*(Heaviside(u-x2)*Heaviside(x3-Tai)*(x1-c0)+c0)\",\"units\":\"dimensionless\"},\"eta2\":{\"value\":\"Heaviside(u-x2)*Heaviside(x3-Tai)*(x1-c0)+c0\",\"units\":\"dimensionless\"},\"sigma\":{\"value\":\"0.042969\",\"units\":\"dimensionless\"},\"sqpi\":{\"value\":\"sqrt(2*3.141459265)\",\"units\":\"dimensionless\"},\"kV\":{\"value\":\"exp(-0.5*((u-1)/sigma)**2)/(sigma*sqpi)\",\"units\":\"dimensionless\"},\"U\":{\"value\":\"k*u*(u-a)*(1-u)-u*v\",\"units\":\"dimensionless\"},\"V\":{\"value\":\"(eps0+(v*mu1)/(u+mu2))*(-v-k*u*(u-a-1))\",\"units\":\"dimensionless\"}},\"Hderivatives\":{\"cols\":1,\"rows\":4,\"elements\":[\"Tai\",\"Ta\",\"u\",\"v\"]},\"hamiltonianLatex\":\"- Ta c_{0} kV + \\\\frac{Tai^{2} eta1}{2} - \\\\frac{eps0 k u^{3}}{3} + \\\\frac{eps0 k u^{2} \\\\left(a + 1\\\\right)}{2} - i_{1} v\",\"hamiltonian\":\"eps0*k*((a+1)*u**2)/2 - eps0*k*u**3/3 + eta1*Tai**2/2 - c0*kV*Ta - (i_1)*v\",\"portHamiltonianMatrices\":{\"matJ\":{\"cols\":4,\"rows\":4,\"elements\":[\"0\",\"- eta1/2\",\"c0*kV/2\",\"0\",\"eta1/2\",\"0\",\"0\",\"0\",\"-c0*kV/2\",\"0\",\"0\",\"0\",\"0\",\"0\",\"0\",\"0\"]},\"matR\":{\"cols\":4,\"rows\":4,\"elements\":[\"c0\",\"-eta1/2\",\"-c0*kV/2\",\"0\",\"-eta1/2\",\"eta2\",\"0\",\"0\",\"-c0*kV/2\",\"0\",\"-U\",\"0\",\"0\",\"0\",\"0\",\"-V\"]},\"matB\":{\"cols\":4,\"rows\":4,\"elements\":[\"0\",\"0\",\"0\",\"0\",\"0\",\"0\",\"0\",\"0\",\"0\",\"0\",\"1/ct\",\"0\",\"0\",\"0\",\"0\",\"0\"]},\"matBhat\":{\"cols\":0,\"rows\":0,\"elements\":[]},\"matQ\":{\"cols\":4,\"rows\":4,\"elements\":[\"1\",\"0\",\"0\",\"0\",\"0\",\"1\",\"0\",\"0\",\"0\",\"0\",\"1\",\"0\",\"0\",\"0\",\"0\",\"1\"]},\"matE\":{\"cols\":4,\"rows\":4,\"elements\":[\"1\",\"0\",\"0\",\"0\",\"0\",\"1\",\"0\",\"0\",\"0\",\"0\",\"1/ct\",\"0\",\"0\",\"0\",\"0\",\"1/ct\"]},\"matC\":{\"cols\":0,\"rows\":0,\"elements\":[]},\"u\":{\"cols\":1,\"rows\":4,\"elements\":[\"0\",\"0\",\"i_1\",\"0\"]},\"u_connect2boundary\":{\"cols\":1,\"elements\":[false,false,false,false],\"rows\":4}},\"stateVector\":{\"cols\":1,\"rows\":4,\"elements\":[\"Tai\",\"Ta\",\"u\",\"v\"]},\"state_values\":{\"Tai\":{\"value\":0.000,\"units\":\"dimensionless\"},\"Ta\":{\"value\":0.001,\"units\":\"dimensionless\"},\"u\":{\"value\":0,\"units\":\"dimensionless\"},\"v\":{\"value\":0.03604,\"units\":\"dimensionless\"}},\"isphenomenological\":false,\"success\":true}'\n",
    "phstypes = {'APN':json.loads(phsval)}"
   ]
  },
  {
   "cell_type": "markdown",
   "metadata": {},
   "source": [
    "With the above information and a graph with appropriate node and edge attributes, we can compose a FTU."
   ]
  },
  {
   "cell_type": "code",
   "execution_count": 10,
   "metadata": {},
   "outputs": [],
   "source": [
    "#Get the graph\n",
    "G = g.getGraph()\n",
    "\n",
    "#Call the FTU composition logic to create a FTU with above information\n",
    "\n",
    "#composer = g.composeCompositePHS(G,phstypes,phsdata)\n",
    "\n",
    "#The above call will create a composite phs, whose parameters are substituted in the final\n",
    "#expression. Use this approach when the PHS parameters will not be changed to explored in the experiments\n",
    "#When experiments with differing phs parameters need to created, the composite PHS\n",
    "#can be created such that the parameters are not substituted at build time but resolved at runtime\n",
    "#For such approaches use\n",
    "composer = g.composeCompositePHS(G,phstypes,phsdata,substituteParameters=False)"
   ]
  },
  {
   "cell_type": "code",
   "execution_count": 11,
   "metadata": {},
   "outputs": [
    {
     "data": {
      "text/latex": [
       "$\\displaystyle \\left[\\begin{matrix}- Tai_{1} c_{0 1} + c_{0 1} kV_{1} u_{1}\\\\- Ta_{1} \\eta_{2 1} + Tai_{1} \\eta_{1 1}\\\\ct_{1} \\left(U_{1} u_{1} - 2 u_{u 1} + u_{u 2} \\left|{0.025 Dn - 0.025000000000000005 Ds}\\right| + u_{u 5} \\left|{0.024999999999999998 Df + 0.009150635094610967 Dn - 0.009150635094610966 Ds}\\right|\\right)\\\\V_{1} ct_{1} v_{1}\\\\- Tai_{2} c_{0 2} + c_{0 2} kV_{2} u_{2}\\\\- Ta_{2} \\eta_{2 2} + Tai_{2} \\eta_{1 2}\\\\ct_{2} \\left(U_{2} u_{2} + u_{u 1} \\left|{0.025 Dn - 0.025000000000000005 Ds}\\right| - 3 u_{u 2} + u_{u 3} \\left|{0.01909269851976059 Df - 0.03306952388982045 Dn + 0.013976825370059847 Ds}\\right| + u_{u 5} \\left|{0.027718528233424168 Df - 0.0074271572555252765 Dn + 0.007427157255525282 Ds}\\right|\\right)\\\\V_{2} ct_{2} v_{2}\\\\- Tai_{3} c_{0 3} + c_{0 3} kV_{3} u_{3}\\\\- Ta_{3} \\eta_{2 3} + Tai_{3} \\eta_{1 3}\\\\ct_{3} \\left(U_{3} u_{3} + u_{u 2} \\left|{0.01909269851976059 Df - 0.03306952388982045 Dn + 0.013976825370059847 Ds}\\right| - 2 u_{u 3} + u_{u 4} \\left|{0.05638559245324766 Df - 3.46967649079123 \\cdot 10^{-17} Dn + 0.04127711849064954 Ds}\\right|\\right)\\\\V_{3} ct_{3} v_{3}\\\\- Tai_{4} c_{0 4} + c_{0 4} kV_{4} u_{4}\\\\- Ta_{4} \\eta_{2 4} + Tai_{4} \\eta_{1 4}\\\\ct_{4} \\left(U_{4} u_{4} + u_{u 3} \\left|{0.05638559245324766 Df - 3.46967649079123 \\cdot 10^{-17} Dn + 0.04127711849064954 Ds}\\right| - u_{u 4} + \\frac{i_{1 2}}{ct_{4}}\\right)\\\\V_{4} ct_{4} v_{4}\\\\- Tai_{5} c_{0 5} + c_{0 5} kV_{5} u_{5}\\\\- Ta_{5} \\eta_{2 5} + Tai_{5} \\eta_{1 5}\\\\ct_{5} \\left(U_{5} u_{5} + u_{u 1} \\left|{0.024999999999999998 Df + 0.009150635094610967 Dn - 0.009150635094610966 Ds}\\right| + u_{u 2} \\left|{0.027718528233424168 Df - 0.0074271572555252765 Dn + 0.007427157255525282 Ds}\\right| - 2 u_{u 5}\\right)\\\\V_{5} ct_{5} v_{5}\\end{matrix}\\right]$"
      ],
      "text/plain": [
       "Matrix([\n",
       "[                                                                                                                                                                                                                              -Tai_1*c0_1 + c0_1*kV_1*u_1],\n",
       "[                                                                                                                                                                                                                              -Ta_1*eta2_1 + Tai_1*eta1_1],\n",
       "[                                                                                        ct_1*(U_1*u_1 - 2*u_u_1 + u_u_2*Abs(0.025*Dn - 0.025000000000000005*Ds) + u_u_5*Abs(0.024999999999999998*Df + 0.009150635094610967*Dn - 0.009150635094610966*Ds))],\n",
       "[                                                                                                                                                                                                                                             V_1*ct_1*v_1],\n",
       "[                                                                                                                                                                                                                              -Tai_2*c0_2 + c0_2*kV_2*u_2],\n",
       "[                                                                                                                                                                                                                              -Ta_2*eta2_2 + Tai_2*eta1_2],\n",
       "[ct_2*(U_2*u_2 + u_u_1*Abs(0.025*Dn - 0.025000000000000005*Ds) - 3*u_u_2 + u_u_3*Abs(0.01909269851976059*Df - 0.03306952388982045*Dn + 0.013976825370059847*Ds) + u_u_5*Abs(0.027718528233424168*Df - 0.0074271572555252765*Dn + 0.007427157255525282*Ds))],\n",
       "[                                                                                                                                                                                                                                             V_2*ct_2*v_2],\n",
       "[                                                                                                                                                                                                                              -Tai_3*c0_3 + c0_3*kV_3*u_3],\n",
       "[                                                                                                                                                                                                                              -Ta_3*eta2_3 + Tai_3*eta1_3],\n",
       "[                                                   ct_3*(U_3*u_3 + u_u_2*Abs(0.01909269851976059*Df - 0.03306952388982045*Dn + 0.013976825370059847*Ds) - 2*u_u_3 + u_u_4*Abs(0.05638559245324766*Df - 3.46967649079123e-17*Dn + 0.04127711849064954*Ds))],\n",
       "[                                                                                                                                                                                                                                             V_3*ct_3*v_3],\n",
       "[                                                                                                                                                                                                                              -Tai_4*c0_4 + c0_4*kV_4*u_4],\n",
       "[                                                                                                                                                                                                                              -Ta_4*eta2_4 + Tai_4*eta1_4],\n",
       "[                                                                                                                               ct_4*(U_4*u_4 + u_u_3*Abs(0.05638559245324766*Df - 3.46967649079123e-17*Dn + 0.04127711849064954*Ds) - u_u_4 + i_1_2/ct_4)],\n",
       "[                                                                                                                                                                                                                                             V_4*ct_4*v_4],\n",
       "[                                                                                                                                                                                                                              -Tai_5*c0_5 + c0_5*kV_5*u_5],\n",
       "[                                                                                                                                                                                                                              -Ta_5*eta2_5 + Tai_5*eta1_5],\n",
       "[                                              ct_5*(U_5*u_5 + u_u_1*Abs(0.024999999999999998*Df + 0.009150635094610967*Dn - 0.009150635094610966*Ds) + u_u_2*Abs(0.027718528233424168*Df - 0.0074271572555252765*Dn + 0.007427157255525282*Ds) - 2*u_u_5)],\n",
       "[                                                                                                                                                                                                                                             V_5*ct_5*v_5]])"
      ]
     },
     "execution_count": 11,
     "metadata": {},
     "output_type": "execute_result"
    }
   ],
   "source": [
    "import sympy\n",
    "stateVec = sympy.Matrix(composer.stateVec)\n",
    "ucapVec = sympy.Matrix([f\"u_{s}\" for s in composer.stateVec])\n",
    "Ccap = composer.uyConnectionMatrix\n",
    "Delx = composer.Qcap * stateVec  # Potential\n",
    "# Since E^-1 can be expensive, we will scale by the rate diagonal value of E for that component\n",
    "Einv = sympy.eye(composer.Ecap.shape[0])\n",
    "for i in range(composer.Ecap.shape[0]):\n",
    "    Einv[i, i] = 1 / composer.Ecap[i, i]\n",
    "JRQx = (composer.Jcap - composer.Rcap) * Delx\n",
    "interioru = composer.Bcap * Ccap * (composer.Bcap.T) * ucapVec\n",
    "exterioru = composer.Bdas * sympy.Matrix(composer.uVecSymbols).T\n",
    "rhs = sympy.SparseMatrix(Einv * (JRQx - interioru + exterioru))\n",
    "rhs"
   ]
  },
  {
   "cell_type": "code",
   "execution_count": 12,
   "metadata": {},
   "outputs": [
    {
     "data": {
      "text/latex": [
       "$\\displaystyle \\left[\\begin{matrix}0\\\\0\\\\0\\\\0\\\\0\\\\0\\\\0\\\\0\\\\0\\\\0\\\\0\\\\0\\\\0\\\\0\\\\\\frac{1}{ct_{4}}\\\\0\\\\0\\\\0\\\\0\\\\0\\end{matrix}\\right]$"
      ],
      "text/plain": [
       "Matrix([\n",
       "[     0],\n",
       "[     0],\n",
       "[     0],\n",
       "[     0],\n",
       "[     0],\n",
       "[     0],\n",
       "[     0],\n",
       "[     0],\n",
       "[     0],\n",
       "[     0],\n",
       "[     0],\n",
       "[     0],\n",
       "[     0],\n",
       "[     0],\n",
       "[1/ct_4],\n",
       "[     0],\n",
       "[     0],\n",
       "[     0],\n",
       "[     0],\n",
       "[     0]])"
      ]
     },
     "execution_count": 12,
     "metadata": {},
     "output_type": "execute_result"
    }
   ],
   "source": [
    "composer.Bdas"
   ]
  },
  {
   "cell_type": "code",
   "execution_count": 13,
   "metadata": {},
   "outputs": [
    {
     "data": {
      "text/plain": [
       "'\\n# The content of this file was generated using the FTUWeaver\\n\\nfrom enum import Enum\\nimport numpy as np\\n\\n\\n__version__ = \"0.0.1\"\\n\\nSTATE_COUNT = 20\\nVARIABLE_COUNT = 135\\n\\ndef heaviside(x):\\n    if x > 0:\\n        return 1.0\\n    return 0.0\\n    \\ndef Abs(x):\\n    return np.fabs(x)\\n\\nclass VariableType(Enum):\\n    VARIABLE_OF_INTEGRATION = 0\\n    STATE = 1\\n    CONSTANT = 2\\n    COMPUTED_CONSTANT = 3\\n    ALGEBRAIC = 4\\n    INTERNAL_INPUT = 5\\n    EXTERNAL_INPUT = 6\\n\\nVOI_INFO = {\"name\": \"t\", \"units\": \"second\", \"component\": \"main\", \"type\": VariableType.VARIABLE_OF_INTEGRATION}\\nSTATE_INFO = [\\n\\t{\"name\": \"Tai_1\", \"units\": \"dimensionless\", \"component\": \"main\", \"type\": VariableType.STATE},\\n\\t{\"name\": \"Ta_1\", \"units\": \"dimensionless\", \"component\": \"main\", \"type\": VariableType.STATE},\\n\\t{\"name\": \"u_1\", \"units\": \"dimensionless\", \"component\": \"main\", \"type\": VariableType.STATE},\\n\\t{\"name\": \"v_1\", \"units\": \"dimensionless\", \"component\": \"main\", \"type\": VariableType.STATE},\\n\\t{\"name\": \"Tai_2\", \"units\": \"dimensionless\", \"component\": \"main\", \"type\": VariableType.STATE},\\n\\t{\"name\": \"Ta_2\", \"units\": \"dimensionless\", \"component\": \"main\", \"type\": VariableType.STATE},\\n\\t{\"name\": \"u_2\", \"units\": \"dimensionless\", \"component\": \"main\", \"type\": VariableType.STATE},\\n\\t{\"name\": \"v_2\", \"units\": \"dimensionless\", \"component\": \"main\", \"type\": VariableType.STATE},\\n\\t{\"name\": \"Tai_3\", \"units\": \"dimensionless\", \"component\": \"main\", \"type\": VariableType.STATE},\\n\\t{\"name\": \"Ta_3\", \"units\": \"dimensionless\", \"component\": \"main\", \"type\": VariableType.STATE},\\n\\t{\"name\": \"u_3\", \"units\": \"dimensionless\", \"component\": \"main\", \"type\": VariableType.STATE},\\n\\t{\"name\": \"v_3\", \"units\": \"dimensionless\", \"component\": \"main\", \"type\": VariableType.STATE},\\n\\t{\"name\": \"Tai_4\", \"units\": \"dimensionless\", \"component\": \"main\", \"type\": VariableType.STATE},\\n\\t{\"name\": \"Ta_4\", \"units\": \"dimensionless\", \"component\": \"main\", \"type\": VariableType.STATE},\\n\\t{\"name\": \"u_4\", \"units\": \"dimensionless\", \"component\": \"main\", \"type\": VariableType.STATE},\\n\\t{\"name\": \"v_4\", \"units\": \"dimensionless\", \"component\": \"main\", \"type\": VariableType.STATE},\\n\\t{\"name\": \"Tai_5\", \"units\": \"dimensionless\", \"component\": \"main\", \"type\": VariableType.STATE},\\n\\t{\"name\": \"Ta_5\", \"units\": \"dimensionless\", \"component\": \"main\", \"type\": VariableType.STATE},\\n\\t{\"name\": \"u_5\", \"units\": \"dimensionless\", \"component\": \"main\", \"type\": VariableType.STATE},\\n\\t{\"name\": \"v_5\", \"units\": \"dimensionless\", \"component\": \"main\", \"type\": VariableType.STATE},\\n]\\n\\nVARIABLE_INFO = [\\n\\t{\"name\": \"i_1_2\", \"units\": \"dimensionless\", \"component\": \"main\", \"type\": VariableType.EXTERNAL_INPUT},\\n\\t{\"name\": \"Df\", \"units\": \"dimensionless\", \"component\": \"main\", \"type\": VariableType.CONSTANT},\\n\\t{\"name\": \"Ds\", \"units\": \"dimensionless\", \"component\": \"main\", \"type\": VariableType.CONSTANT},\\n\\t{\"name\": \"Dn\", \"units\": \"dimensionless\", \"component\": \"main\", \"type\": VariableType.CONSTANT},\\n\\t{\"name\": \"c_1\", \"units\": \"dimensionless\", \"component\": \"main\", \"type\": VariableType.CONSTANT},\\n\\t{\"name\": \"c_16\", \"units\": \"dimensionless\", \"component\": \"main\", \"type\": VariableType.CONSTANT},\\n\\t{\"name\": \"c_23\", \"units\": \"dimensionless\", \"component\": \"main\", \"type\": VariableType.CONSTANT},\\n\\t{\"name\": \"c_25\", \"units\": \"dimensionless\", \"component\": \"main\", \"type\": VariableType.CONSTANT},\\n\\t{\"name\": \"c_17\", \"units\": \"dimensionless\", \"component\": \"main\", \"type\": VariableType.CONSTANT},\\n\\t{\"name\": \"c_19\", \"units\": \"dimensionless\", \"component\": \"main\", \"type\": VariableType.CONSTANT},\\n\\t{\"name\": \"c_22\", \"units\": \"dimensionless\", \"component\": \"main\", \"type\": VariableType.CONSTANT},\\n\\t{\"name\": \"c_18\", \"units\": \"dimensionless\", \"component\": \"main\", \"type\": VariableType.CONSTANT},\\n\\t{\"name\": \"c_26\", \"units\": \"dimensionless\", \"component\": \"main\", \"type\": VariableType.CONSTANT},\\n\\t{\"name\": \"c_24\", \"units\": \"dimensionless\", \"component\": \"main\", \"type\": VariableType.CONSTANT},\\n\\t{\"name\": \"c_4\", \"units\": \"dimensionless\", \"component\": \"main\", \"type\": VariableType.CONSTANT},\\n\\t{\"name\": \"c_12\", \"units\": \"dimensionless\", \"component\": \"main\", \"type\": VariableType.CONSTANT},\\n\\t{\"name\": \"c_9\", \"units\": \"dimensionless\", \"component\": \"main\", \"type\": VariableType.CONSTANT},\\n\\t{\"name\": \"c_2\", \"units\": \"dimensionless\", \"component\": \"main\", \"type\": VariableType.CONSTANT},\\n\\t{\"name\": \"c_8\", \"units\": \"dimensionless\", \"component\": \"main\", \"type\": VariableType.CONSTANT},\\n\\t{\"name\": \"c_20\", \"units\": \"dimensionless\", \"component\": \"main\", \"type\": VariableType.CONSTANT},\\n\\t{\"name\": \"c_13\", \"units\": \"dimensionless\", \"component\": \"main\", \"type\": VariableType.CONSTANT},\\n\\t{\"name\": \"c_5\", \"units\": \"dimensionless\", \"component\": \"main\", \"type\": VariableType.CONSTANT},\\n\\t{\"name\": \"c_21\", \"units\": \"dimensionless\", \"component\": \"main\", \"type\": VariableType.CONSTANT},\\n\\t{\"name\": \"c_11\", \"units\": \"dimensionless\", \"component\": \"main\", \"type\": VariableType.CONSTANT},\\n\\t{\"name\": \"c_6\", \"units\": \"dimensionless\", \"component\": \"main\", \"type\": VariableType.CONSTANT},\\n\\t{\"name\": \"c_15\", \"units\": \"dimensionless\", \"component\": \"main\", \"type\": VariableType.CONSTANT},\\n\\t{\"name\": \"c_10\", \"units\": \"dimensionless\", \"component\": \"main\", \"type\": VariableType.CONSTANT},\\n\\t{\"name\": \"c_7\", \"units\": \"dimensionless\", \"component\": \"main\", \"type\": VariableType.CONSTANT},\\n\\t{\"name\": \"c_14\", \"units\": \"dimensionless\", \"component\": \"main\", \"type\": VariableType.CONSTANT},\\n\\t{\"name\": \"c_3\", \"units\": \"dimensionless\", \"component\": \"main\", \"type\": VariableType.CONSTANT},\\n\\t{\"name\": \"eps0_1\", \"units\": \"dimensionless\", \"component\": \"main\", \"type\": VariableType.CONSTANT},\\n\\t{\"name\": \"k_1\", \"units\": \"dimensionless\", \"component\": \"main\", \"type\": VariableType.CONSTANT},\\n\\t{\"name\": \"a_1\", \"units\": \"dimensionless\", \"component\": \"main\", \"type\": VariableType.CONSTANT},\\n\\t{\"name\": \"c0_1\", \"units\": \"dimensionless\", \"component\": \"main\", \"type\": VariableType.CONSTANT},\\n\\t{\"name\": \"ct_1\", \"units\": \"dimensionless\", \"component\": \"main\", \"type\": VariableType.CONSTANT},\\n\\t{\"name\": \"mu1_1\", \"units\": \"dimensionless\", \"component\": \"main\", \"type\": VariableType.CONSTANT},\\n\\t{\"name\": \"mu2_1\", \"units\": \"dimensionless\", \"component\": \"main\", \"type\": VariableType.CONSTANT},\\n\\t{\"name\": \"x1_1\", \"units\": \"dimensionless\", \"component\": \"main\", \"type\": VariableType.CONSTANT},\\n\\t{\"name\": \"x2_1\", \"units\": \"dimensionless\", \"component\": \"main\", \"type\": VariableType.CONSTANT},\\n\\t{\"name\": \"x3_1\", \"units\": \"dimensionless\", \"component\": \"main\", \"type\": VariableType.CONSTANT},\\n\\t{\"name\": \"sigma_1\", \"units\": \"dimensionless\", \"component\": \"main\", \"type\": VariableType.CONSTANT},\\n\\t{\"name\": \"sqpi_1\", \"units\": \"dimensionless\", \"component\": \"main\", \"type\": VariableType.CONSTANT},\\n\\t{\"name\": \"eps0_2\", \"units\": \"dimensionless\", \"component\": \"main\", \"type\": VariableType.CONSTANT},\\n\\t{\"name\": \"k_2\", \"units\": \"dimensionless\", \"component\": \"main\", \"type\": VariableType.CONSTANT},\\n\\t{\"name\": \"a_2\", \"units\": \"dimensionless\", \"component\": \"main\", \"type\": VariableType.CONSTANT},\\n\\t{\"name\": \"c0_2\", \"units\": \"dimensionless\", \"component\": \"main\", \"type\": VariableType.CONSTANT},\\n\\t{\"name\": \"ct_2\", \"units\": \"dimensionless\", \"component\": \"main\", \"type\": VariableType.CONSTANT},\\n\\t{\"name\": \"mu1_2\", \"units\": \"dimensionless\", \"component\": \"main\", \"type\": VariableType.CONSTANT},\\n\\t{\"name\": \"mu2_2\", \"units\": \"dimensionless\", \"component\": \"main\", \"type\": VariableType.CONSTANT},\\n\\t{\"name\": \"x1_2\", \"units\": \"dimensionless\", \"component\": \"main\", \"type\": VariableType.CONSTANT},\\n\\t{\"name\": \"x2_2\", \"units\": \"dimensionless\", \"component\": \"main\", \"type\": VariableType.CONSTANT},\\n\\t{\"name\": \"x3_2\", \"units\": \"dimensionless\", \"component\": \"main\", \"type\": VariableType.CONSTANT},\\n\\t{\"name\": \"sigma_2\", \"units\": \"dimensionless\", \"component\": \"main\", \"type\": VariableType.CONSTANT},\\n\\t{\"name\": \"sqpi_2\", \"units\": \"dimensionless\", \"component\": \"main\", \"type\": VariableType.CONSTANT},\\n\\t{\"name\": \"eps0_3\", \"units\": \"dimensionless\", \"component\": \"main\", \"type\": VariableType.CONSTANT},\\n\\t{\"name\": \"k_3\", \"units\": \"dimensionless\", \"component\": \"main\", \"type\": VariableType.CONSTANT},\\n\\t{\"name\": \"a_3\", \"units\": \"dimensionless\", \"component\": \"main\", \"type\": VariableType.CONSTANT},\\n\\t{\"name\": \"c0_3\", \"units\": \"dimensionless\", \"component\": \"main\", \"type\": VariableType.CONSTANT},\\n\\t{\"name\": \"ct_3\", \"units\": \"dimensionless\", \"component\": \"main\", \"type\": VariableType.CONSTANT},\\n\\t{\"name\": \"mu1_3\", \"units\": \"dimensionless\", \"component\": \"main\", \"type\": VariableType.CONSTANT},\\n\\t{\"name\": \"mu2_3\", \"units\": \"dimensionless\", \"component\": \"main\", \"type\": VariableType.CONSTANT},\\n\\t{\"name\": \"x1_3\", \"units\": \"dimensionless\", \"component\": \"main\", \"type\": VariableType.CONSTANT},\\n\\t{\"name\": \"x2_3\", \"units\": \"dimensionless\", \"component\": \"main\", \"type\": VariableType.CONSTANT},\\n\\t{\"name\": \"x3_3\", \"units\": \"dimensionless\", \"component\": \"main\", \"type\": VariableType.CONSTANT},\\n\\t{\"name\": \"sigma_3\", \"units\": \"dimensionless\", \"component\": \"main\", \"type\": VariableType.CONSTANT},\\n\\t{\"name\": \"sqpi_3\", \"units\": \"dimensionless\", \"component\": \"main\", \"type\": VariableType.CONSTANT},\\n\\t{\"name\": \"eps0_4\", \"units\": \"dimensionless\", \"component\": \"main\", \"type\": VariableType.CONSTANT},\\n\\t{\"name\": \"k_4\", \"units\": \"dimensionless\", \"component\": \"main\", \"type\": VariableType.CONSTANT},\\n\\t{\"name\": \"a_4\", \"units\": \"dimensionless\", \"component\": \"main\", \"type\": VariableType.CONSTANT},\\n\\t{\"name\": \"c0_4\", \"units\": \"dimensionless\", \"component\": \"main\", \"type\": VariableType.CONSTANT},\\n\\t{\"name\": \"ct_4\", \"units\": \"dimensionless\", \"component\": \"main\", \"type\": VariableType.CONSTANT},\\n\\t{\"name\": \"mu1_4\", \"units\": \"dimensionless\", \"component\": \"main\", \"type\": VariableType.CONSTANT},\\n\\t{\"name\": \"mu2_4\", \"units\": \"dimensionless\", \"component\": \"main\", \"type\": VariableType.CONSTANT},\\n\\t{\"name\": \"x1_4\", \"units\": \"dimensionless\", \"component\": \"main\", \"type\": VariableType.CONSTANT},\\n\\t{\"name\": \"x2_4\", \"units\": \"dimensionless\", \"component\": \"main\", \"type\": VariableType.CONSTANT},\\n\\t{\"name\": \"x3_4\", \"units\": \"dimensionless\", \"component\": \"main\", \"type\": VariableType.CONSTANT},\\n\\t{\"name\": \"sigma_4\", \"units\": \"dimensionless\", \"component\": \"main\", \"type\": VariableType.CONSTANT},\\n\\t{\"name\": \"sqpi_4\", \"units\": \"dimensionless\", \"component\": \"main\", \"type\": VariableType.CONSTANT},\\n\\t{\"name\": \"eps0_5\", \"units\": \"dimensionless\", \"component\": \"main\", \"type\": VariableType.CONSTANT},\\n\\t{\"name\": \"k_5\", \"units\": \"dimensionless\", \"component\": \"main\", \"type\": VariableType.CONSTANT},\\n\\t{\"name\": \"a_5\", \"units\": \"dimensionless\", \"component\": \"main\", \"type\": VariableType.CONSTANT},\\n\\t{\"name\": \"c0_5\", \"units\": \"dimensionless\", \"component\": \"main\", \"type\": VariableType.CONSTANT},\\n\\t{\"name\": \"ct_5\", \"units\": \"dimensionless\", \"component\": \"main\", \"type\": VariableType.CONSTANT},\\n\\t{\"name\": \"mu1_5\", \"units\": \"dimensionless\", \"component\": \"main\", \"type\": VariableType.CONSTANT},\\n\\t{\"name\": \"mu2_5\", \"units\": \"dimensionless\", \"component\": \"main\", \"type\": VariableType.CONSTANT},\\n\\t{\"name\": \"x1_5\", \"units\": \"dimensionless\", \"component\": \"main\", \"type\": VariableType.CONSTANT},\\n\\t{\"name\": \"x2_5\", \"units\": \"dimensionless\", \"component\": \"main\", \"type\": VariableType.CONSTANT},\\n\\t{\"name\": \"x3_5\", \"units\": \"dimensionless\", \"component\": \"main\", \"type\": VariableType.CONSTANT},\\n\\t{\"name\": \"sigma_5\", \"units\": \"dimensionless\", \"component\": \"main\", \"type\": VariableType.CONSTANT},\\n\\t{\"name\": \"sqpi_5\", \"units\": \"dimensionless\", \"component\": \"main\", \"type\": VariableType.CONSTANT},\\n\\t{\"name\": \"u_Tai_1\", \"units\": \"dimensionless\", \"component\": \"main\", \"type\": VariableType.INTERNAL_INPUT},\\n\\t{\"name\": \"u_Ta_1\", \"units\": \"dimensionless\", \"component\": \"main\", \"type\": VariableType.INTERNAL_INPUT},\\n\\t{\"name\": \"u_u_1\", \"units\": \"dimensionless\", \"component\": \"main\", \"type\": VariableType.INTERNAL_INPUT},\\n\\t{\"name\": \"u_v_1\", \"units\": \"dimensionless\", \"component\": \"main\", \"type\": VariableType.INTERNAL_INPUT},\\n\\t{\"name\": \"u_Tai_2\", \"units\": \"dimensionless\", \"component\": \"main\", \"type\": VariableType.INTERNAL_INPUT},\\n\\t{\"name\": \"u_Ta_2\", \"units\": \"dimensionless\", \"component\": \"main\", \"type\": VariableType.INTERNAL_INPUT},\\n\\t{\"name\": \"u_u_2\", \"units\": \"dimensionless\", \"component\": \"main\", \"type\": VariableType.INTERNAL_INPUT},\\n\\t{\"name\": \"u_v_2\", \"units\": \"dimensionless\", \"component\": \"main\", \"type\": VariableType.INTERNAL_INPUT},\\n\\t{\"name\": \"u_Tai_3\", \"units\": \"dimensionless\", \"component\": \"main\", \"type\": VariableType.INTERNAL_INPUT},\\n\\t{\"name\": \"u_Ta_3\", \"units\": \"dimensionless\", \"component\": \"main\", \"type\": VariableType.INTERNAL_INPUT},\\n\\t{\"name\": \"u_u_3\", \"units\": \"dimensionless\", \"component\": \"main\", \"type\": VariableType.INTERNAL_INPUT},\\n\\t{\"name\": \"u_v_3\", \"units\": \"dimensionless\", \"component\": \"main\", \"type\": VariableType.INTERNAL_INPUT},\\n\\t{\"name\": \"u_Tai_4\", \"units\": \"dimensionless\", \"component\": \"main\", \"type\": VariableType.INTERNAL_INPUT},\\n\\t{\"name\": \"u_Ta_4\", \"units\": \"dimensionless\", \"component\": \"main\", \"type\": VariableType.INTERNAL_INPUT},\\n\\t{\"name\": \"u_u_4\", \"units\": \"dimensionless\", \"component\": \"main\", \"type\": VariableType.INTERNAL_INPUT},\\n\\t{\"name\": \"u_v_4\", \"units\": \"dimensionless\", \"component\": \"main\", \"type\": VariableType.INTERNAL_INPUT},\\n\\t{\"name\": \"u_Tai_5\", \"units\": \"dimensionless\", \"component\": \"main\", \"type\": VariableType.INTERNAL_INPUT},\\n\\t{\"name\": \"u_Ta_5\", \"units\": \"dimensionless\", \"component\": \"main\", \"type\": VariableType.INTERNAL_INPUT},\\n\\t{\"name\": \"u_u_5\", \"units\": \"dimensionless\", \"component\": \"main\", \"type\": VariableType.INTERNAL_INPUT},\\n\\t{\"name\": \"u_v_5\", \"units\": \"dimensionless\", \"component\": \"main\", \"type\": VariableType.INTERNAL_INPUT},\\n\\t{\"name\": \"i_1_2\", \"units\": \"dimensionless\", \"component\": \"main\", \"type\": VariableType.EXTERNAL_INPUT},\\n\\t{\"name\": \"eta1_1\", \"units\": \"dimensionless\", \"component\": \"main\", \"type\": VariableType.ALGEBRAIC},\\n\\t{\"name\": \"eta2_1\", \"units\": \"dimensionless\", \"component\": \"main\", \"type\": VariableType.ALGEBRAIC},\\n\\t{\"name\": \"kV_1\", \"units\": \"dimensionless\", \"component\": \"main\", \"type\": VariableType.ALGEBRAIC},\\n\\t{\"name\": \"U_1\", \"units\": \"dimensionless\", \"component\": \"main\", \"type\": VariableType.ALGEBRAIC},\\n\\t{\"name\": \"V_1\", \"units\": \"dimensionless\", \"component\": \"main\", \"type\": VariableType.ALGEBRAIC},\\n\\t{\"name\": \"eta1_2\", \"units\": \"dimensionless\", \"component\": \"main\", \"type\": VariableType.ALGEBRAIC},\\n\\t{\"name\": \"eta2_2\", \"units\": \"dimensionless\", \"component\": \"main\", \"type\": VariableType.ALGEBRAIC},\\n\\t{\"name\": \"kV_2\", \"units\": \"dimensionless\", \"component\": \"main\", \"type\": VariableType.ALGEBRAIC},\\n\\t{\"name\": \"U_2\", \"units\": \"dimensionless\", \"component\": \"main\", \"type\": VariableType.ALGEBRAIC},\\n\\t{\"name\": \"V_2\", \"units\": \"dimensionless\", \"component\": \"main\", \"type\": VariableType.ALGEBRAIC},\\n\\t{\"name\": \"eta1_3\", \"units\": \"dimensionless\", \"component\": \"main\", \"type\": VariableType.ALGEBRAIC},\\n\\t{\"name\": \"eta2_3\", \"units\": \"dimensionless\", \"component\": \"main\", \"type\": VariableType.ALGEBRAIC},\\n\\t{\"name\": \"kV_3\", \"units\": \"dimensionless\", \"component\": \"main\", \"type\": VariableType.ALGEBRAIC},\\n\\t{\"name\": \"U_3\", \"units\": \"dimensionless\", \"component\": \"main\", \"type\": VariableType.ALGEBRAIC},\\n\\t{\"name\": \"V_3\", \"units\": \"dimensionless\", \"component\": \"main\", \"type\": VariableType.ALGEBRAIC},\\n\\t{\"name\": \"eta1_4\", \"units\": \"dimensionless\", \"component\": \"main\", \"type\": VariableType.ALGEBRAIC},\\n\\t{\"name\": \"eta2_4\", \"units\": \"dimensionless\", \"component\": \"main\", \"type\": VariableType.ALGEBRAIC},\\n\\t{\"name\": \"kV_4\", \"units\": \"dimensionless\", \"component\": \"main\", \"type\": VariableType.ALGEBRAIC},\\n\\t{\"name\": \"U_4\", \"units\": \"dimensionless\", \"component\": \"main\", \"type\": VariableType.ALGEBRAIC},\\n\\t{\"name\": \"V_4\", \"units\": \"dimensionless\", \"component\": \"main\", \"type\": VariableType.ALGEBRAIC},\\n\\t{\"name\": \"eta1_5\", \"units\": \"dimensionless\", \"component\": \"main\", \"type\": VariableType.ALGEBRAIC},\\n\\t{\"name\": \"eta2_5\", \"units\": \"dimensionless\", \"component\": \"main\", \"type\": VariableType.ALGEBRAIC},\\n\\t{\"name\": \"kV_5\", \"units\": \"dimensionless\", \"component\": \"main\", \"type\": VariableType.ALGEBRAIC},\\n\\t{\"name\": \"U_5\", \"units\": \"dimensionless\", \"component\": \"main\", \"type\": VariableType.ALGEBRAIC},\\n\\t{\"name\": \"V_5\", \"units\": \"dimensionless\", \"component\": \"main\", \"type\": VariableType.ALGEBRAIC},\\n]\\n\\n\\ndef create_states_array():\\n    return np.zeros(STATE_COUNT)\\n\\ndef create_variables_array():\\n    return np.zeros(VARIABLE_COUNT)\\n        \\ndef initialise_variables(states, variables):\\n\\tstates[0] = 0.000000  #Tai_1\\n\\tstates[1] = 0.001000  #Ta_1\\n\\tstates[2] = 0.000000  #u_1\\n\\tstates[3] = 0.036040  #v_1\\n\\tstates[4] = 0.000000  #Tai_2\\n\\tstates[5] = 0.001000  #Ta_2\\n\\tstates[6] = 0.000000  #u_2\\n\\tstates[7] = 0.036040  #v_2\\n\\tstates[8] = 0.000000  #Tai_3\\n\\tstates[9] = 0.001000  #Ta_3\\n\\tstates[10] = 0.000000  #u_3\\n\\tstates[11] = 0.036040  #v_3\\n\\tstates[12] = 0.000000  #Tai_4\\n\\tstates[13] = 0.001000  #Ta_4\\n\\tstates[14] = 0.000000  #u_4\\n\\tstates[15] = 0.036040  #v_4\\n\\tstates[16] = 0.000000  #Tai_5\\n\\tstates[17] = 0.001000  #Ta_5\\n\\tstates[18] = 0.000000  #u_5\\n\\tstates[19] = 0.036040  #v_5\\n\\tvariables[0] = 0.0 #i_1_2 External input\\n\\tvariables[1] = 1.0  #Df This needs to be set for accurate simulation\\n\\tvariables[2] = 1.0  #Ds This needs to be set for accurate simulation\\n\\tvariables[3] = 1.0  #Dn This needs to be set for accurate simulation\\n\\tvariables[4] = 0.000000  #c_1\\n\\tvariables[5] = 0.130000  #c_16\\n\\tvariables[6] = 2.000000  #c_23\\n\\tvariables[7] = 3.000000  #c_25\\n\\tvariables[8] = 0.200000  #c_17\\n\\tvariables[9] = 0.300000  #c_19\\n\\tvariables[10] = 0.780000  #c_22\\n\\tvariables[11] = 0.292500  #c_18\\n\\tvariables[12] = 8.000000  #c_26\\n\\tvariables[13] = 2.506575  #c_24\\n\\tvariables[14] = 0.007427  #c_4\\n\\tvariables[15] = 0.041277  #c_12\\n\\tvariables[16] = 0.025000  #c_9\\n\\tvariables[17] = 0.000100  #c_2\\n\\tvariables[18] = 0.019093  #c_8\\n\\tvariables[19] = 0.333333  #c_20\\n\\tvariables[20] = 0.042969  #c_13\\n\\tvariables[21] = 0.009151  #c_5\\n\\tvariables[22] = 0.500000  #c_21\\n\\tvariables[23] = 0.033070  #c_11\\n\\tvariables[24] = 0.013977  #c_6\\n\\tvariables[25] = 0.077500  #c_15\\n\\tvariables[26] = 0.027719  #c_10\\n\\tvariables[27] = 0.016602  #c_7\\n\\tvariables[28] = 0.056386  #c_14\\n\\tvariables[29] = 0.002000  #c_3\\n\\tvariables[30] = 0.002000  #eps0_1\\n\\tvariables[31] = 8.000000  #k_1\\n\\tvariables[32] = 0.130000  #a_1\\n\\tvariables[33] = 0.016602  #c0_1\\n\\tvariables[34] = 0.077500  #ct_1\\n\\tvariables[35] = 0.200000  #mu1_1\\n\\tvariables[36] = 0.300000  #mu2_1\\n\\tvariables[37] = 0.000100  #x1_1\\n\\tvariables[38] = 0.780000  #x2_1\\n\\tvariables[39] = 0.292500  #x3_1\\n\\tvariables[40] = 0.042969  #sigma_1\\n\\tvariables[41] = 2.506575  #sqpi_1\\n\\tvariables[42] = 0.002000  #eps0_2\\n\\tvariables[43] = 8.000000  #k_2\\n\\tvariables[44] = 0.130000  #a_2\\n\\tvariables[45] = 0.016602  #c0_2\\n\\tvariables[46] = 0.077500  #ct_2\\n\\tvariables[47] = 0.200000  #mu1_2\\n\\tvariables[48] = 0.300000  #mu2_2\\n\\tvariables[49] = 0.000100  #x1_2\\n\\tvariables[50] = 0.780000  #x2_2\\n\\tvariables[51] = 0.292500  #x3_2\\n\\tvariables[52] = 0.042969  #sigma_2\\n\\tvariables[53] = 2.506575  #sqpi_2\\n\\tvariables[54] = 0.002000  #eps0_3\\n\\tvariables[55] = 8.000000  #k_3\\n\\tvariables[56] = 0.130000  #a_3\\n\\tvariables[57] = 0.016602  #c0_3\\n\\tvariables[58] = 0.077500  #ct_3\\n\\tvariables[59] = 0.200000  #mu1_3\\n\\tvariables[60] = 0.300000  #mu2_3\\n\\tvariables[61] = 0.000100  #x1_3\\n\\tvariables[62] = 0.780000  #x2_3\\n\\tvariables[63] = 0.292500  #x3_3\\n\\tvariables[64] = 0.042969  #sigma_3\\n\\tvariables[65] = 2.506575  #sqpi_3\\n\\tvariables[66] = 0.002000  #eps0_4\\n\\tvariables[67] = 8.000000  #k_4\\n\\tvariables[68] = 0.130000  #a_4\\n\\tvariables[69] = 0.016602  #c0_4\\n\\tvariables[70] = 0.077500  #ct_4\\n\\tvariables[71] = 0.200000  #mu1_4\\n\\tvariables[72] = 0.300000  #mu2_4\\n\\tvariables[73] = 0.000100  #x1_4\\n\\tvariables[74] = 0.780000  #x2_4\\n\\tvariables[75] = 0.292500  #x3_4\\n\\tvariables[76] = 0.042969  #sigma_4\\n\\tvariables[77] = 2.506575  #sqpi_4\\n\\tvariables[78] = 0.002000  #eps0_5\\n\\tvariables[79] = 8.000000  #k_5\\n\\tvariables[80] = 0.130000  #a_5\\n\\tvariables[81] = 0.016602  #c0_5\\n\\tvariables[82] = 0.077500  #ct_5\\n\\tvariables[83] = 0.200000  #mu1_5\\n\\tvariables[84] = 0.300000  #mu2_5\\n\\tvariables[85] = 0.000100  #x1_5\\n\\tvariables[86] = 0.780000  #x2_5\\n\\tvariables[87] = 0.292500  #x3_5\\n\\tvariables[88] = 0.042969  #sigma_5\\n\\tvariables[89] = 2.506575  #sqpi_5\\n\\ndef compute_computed_constants(variables):\\n\\tpass\\n\\ndef compute_variables(voi, states, rates, variables):\\n\\tt=voi #mapping to t\\n\\t#\\\\hat{u}_Tai_1 = Tai_1\\n\\tvariables[90] = states[0]\\n\\t#\\\\hat{u}_Ta_1 = Ta_1\\n\\tvariables[91] = states[1]\\n\\t#\\\\hat{u}_u_1 = u_1\\n\\tvariables[92] = states[2]\\n\\t#\\\\hat{u}_v_1 = v_1\\n\\tvariables[93] = states[3]\\n\\t#\\\\hat{u}_Tai_2 = Tai_2\\n\\tvariables[94] = states[4]\\n\\t#\\\\hat{u}_Ta_2 = Ta_2\\n\\tvariables[95] = states[5]\\n\\t#\\\\hat{u}_u_2 = u_2\\n\\tvariables[96] = states[6]\\n\\t#\\\\hat{u}_v_2 = v_2\\n\\tvariables[97] = states[7]\\n\\t#\\\\hat{u}_Tai_3 = Tai_3\\n\\tvariables[98] = states[8]\\n\\t#\\\\hat{u}_Ta_3 = Ta_3\\n\\tvariables[99] = states[9]\\n\\t#\\\\hat{u}_u_3 = u_3\\n\\tvariables[100] = states[10]\\n\\t#\\\\hat{u}_v_3 = v_3\\n\\tvariables[101] = states[11]\\n\\t#\\\\hat{u}_Tai_4 = Tai_4\\n\\tvariables[102] = states[12]\\n\\t#\\\\hat{u}_Ta_4 = Ta_4\\n\\tvariables[103] = states[13]\\n\\t#\\\\hat{u}_u_4 = u_4\\n\\tvariables[104] = states[14]\\n\\t#\\\\hat{u}_v_4 = v_4\\n\\tvariables[105] = states[15]\\n\\t#\\\\hat{u}_Tai_5 = Tai_5\\n\\tvariables[106] = states[16]\\n\\t#\\\\hat{u}_Ta_5 = Ta_5\\n\\tvariables[107] = states[17]\\n\\t#\\\\hat{u}_u_5 = u_5\\n\\tvariables[108] = states[18]\\n\\t#\\\\hat{u}_v_5 = v_5\\n\\tvariables[109] = states[19]\\n\\ndef compute_rates(voi, states, rates, variables):\\n\\tt=voi #mapping to t\\n\\t#eta1_1 = Tai_1*(c0_1 + (-c0_1 + x1_1)*heaviside(-Tai_1 + x3_1)*heaviside(u_1 - x2_1))\\n\\tvariables[110] = states[0]*(variables[33] + (-variables[33] + variables[37])*heaviside(-states[0] + variables[39])*heaviside(states[2] - variables[38]))\\n\\t#eta2_1 = c0_1 + (-c0_1 + x1_1)*heaviside(-Tai_1 + x3_1)*heaviside(u_1 - x2_1)\\n\\tvariables[111] = variables[33] + (-variables[33] + variables[37])*heaviside(-states[0] + variables[39])*heaviside(states[2] - variables[38])\\n\\t#kV_1 = exp(-0.5*(u_1 - 1)**c_23/sigma_1**2)/(sigma_1*sqpi_1)\\n\\tvariables[112] = exp(-0.5*(states[2] - 1)**variables[6]/variables[40]**2)/(variables[40]*variables[41])\\n\\t#U_1 = -u_1*v_1 + u_1*k_1*(1 - u_1)*(u_1 - a_1)\\n\\tvariables[113] = -states[2]*states[3] + states[2]*variables[31]*(1 - states[2])*(states[2] - variables[32])\\n\\t#V_1 = (-u_1*k_1*(u_1 - a_1 - 1) - v_1)*(v_1*mu1_1/(u_1 + mu2_1) + eps0_1)\\n\\tvariables[114] = (-states[2]*variables[31]*(states[2] - variables[32] - 1) - states[3])*(states[3]*variables[35]/(states[2] + variables[36]) + variables[30])\\n\\t#eta1_2 = Tai_2*(c0_2 + (-c0_2 + x1_2)*heaviside(-Tai_2 + x3_2)*heaviside(u_2 - x2_2))\\n\\tvariables[115] = states[4]*(variables[45] + (-variables[45] + variables[49])*heaviside(-states[4] + variables[51])*heaviside(states[6] - variables[50]))\\n\\t#eta2_2 = c0_2 + (-c0_2 + x1_2)*heaviside(-Tai_2 + x3_2)*heaviside(u_2 - x2_2)\\n\\tvariables[116] = variables[45] + (-variables[45] + variables[49])*heaviside(-states[4] + variables[51])*heaviside(states[6] - variables[50])\\n\\t#kV_2 = exp(-0.5*(u_2 - 1)**c_23/sigma_2**2)/(sigma_2*sqpi_2)\\n\\tvariables[117] = exp(-0.5*(states[6] - 1)**variables[6]/variables[52]**2)/(variables[52]*variables[53])\\n\\t#U_2 = -u_2*v_2 + u_2*k_2*(1 - u_2)*(u_2 - a_2)\\n\\tvariables[118] = -states[6]*states[7] + states[6]*variables[43]*(1 - states[6])*(states[6] - variables[44])\\n\\t#V_2 = (-u_2*k_2*(u_2 - a_2 - 1) - v_2)*(v_2*mu1_2/(u_2 + mu2_2) + eps0_2)\\n\\tvariables[119] = (-states[6]*variables[43]*(states[6] - variables[44] - 1) - states[7])*(states[7]*variables[47]/(states[6] + variables[48]) + variables[42])\\n\\t#eta1_3 = Tai_3*(c0_3 + (-c0_3 + x1_3)*heaviside(u_3 - x2_3)*heaviside(-Tai_3 + x3_3))\\n\\tvariables[120] = states[8]*(variables[57] + (-variables[57] + variables[61])*heaviside(states[10] - variables[62])*heaviside(-states[8] + variables[63]))\\n\\t#eta2_3 = c0_3 + (-c0_3 + x1_3)*heaviside(u_3 - x2_3)*heaviside(-Tai_3 + x3_3)\\n\\tvariables[121] = variables[57] + (-variables[57] + variables[61])*heaviside(states[10] - variables[62])*heaviside(-states[8] + variables[63])\\n\\t#kV_3 = exp(-0.5*(u_3 - 1)**c_23/sigma_3**2)/(sigma_3*sqpi_3)\\n\\tvariables[122] = exp(-0.5*(states[10] - 1)**variables[6]/variables[64]**2)/(variables[64]*variables[65])\\n\\t#U_3 = -u_3*v_3 + u_3*k_3*(1 - u_3)*(u_3 - a_3)\\n\\tvariables[123] = -states[10]*states[11] + states[10]*variables[55]*(1 - states[10])*(states[10] - variables[56])\\n\\t#V_3 = (-u_3*k_3*(u_3 - a_3 - 1) - v_3)*(v_3*mu1_3/(u_3 + mu2_3) + eps0_3)\\n\\tvariables[124] = (-states[10]*variables[55]*(states[10] - variables[56] - 1) - states[11])*(states[11]*variables[59]/(states[10] + variables[60]) + variables[54])\\n\\t#eta1_4 = Tai_4*(c0_4 + (-c0_4 + x1_4)*heaviside(-Tai_4 + x3_4)*heaviside(u_4 - x2_4))\\n\\tvariables[125] = states[12]*(variables[69] + (-variables[69] + variables[73])*heaviside(-states[12] + variables[75])*heaviside(states[14] - variables[74]))\\n\\t#eta2_4 = c0_4 + (-c0_4 + x1_4)*heaviside(-Tai_4 + x3_4)*heaviside(u_4 - x2_4)\\n\\tvariables[126] = variables[69] + (-variables[69] + variables[73])*heaviside(-states[12] + variables[75])*heaviside(states[14] - variables[74])\\n\\t#kV_4 = exp(-0.5*(u_4 - 1)**c_23/sigma_4**2)/(sigma_4*sqpi_4)\\n\\tvariables[127] = exp(-0.5*(states[14] - 1)**variables[6]/variables[76]**2)/(variables[76]*variables[77])\\n\\t#U_4 = -u_4*v_4 + u_4*k_4*(1 - u_4)*(u_4 - a_4)\\n\\tvariables[128] = -states[14]*states[15] + states[14]*variables[67]*(1 - states[14])*(states[14] - variables[68])\\n\\t#V_4 = (-u_4*k_4*(u_4 - a_4 - 1) - v_4)*(v_4*mu1_4/(u_4 + mu2_4) + eps0_4)\\n\\tvariables[129] = (-states[14]*variables[67]*(states[14] - variables[68] - 1) - states[15])*(states[15]*variables[71]/(states[14] + variables[72]) + variables[66])\\n\\t#eta1_5 = Tai_5*(c0_5 + (-c0_5 + x1_5)*heaviside(-Tai_5 + x3_5)*heaviside(u_5 - x2_5))\\n\\tvariables[130] = states[16]*(variables[81] + (-variables[81] + variables[85])*heaviside(-states[16] + variables[87])*heaviside(states[18] - variables[86]))\\n\\t#eta2_5 = c0_5 + (-c0_5 + x1_5)*heaviside(-Tai_5 + x3_5)*heaviside(u_5 - x2_5)\\n\\tvariables[131] = variables[81] + (-variables[81] + variables[85])*heaviside(-states[16] + variables[87])*heaviside(states[18] - variables[86])\\n\\t#kV_5 = exp(-0.5*(u_5 - 1)**c_23/sigma_5**2)/(sigma_5*sqpi_5)\\n\\tvariables[132] = exp(-0.5*(states[18] - 1)**variables[6]/variables[88]**2)/(variables[88]*variables[89])\\n\\t#U_5 = -u_5*v_5 + u_5*k_5*(1 - u_5)*(u_5 - a_5)\\n\\tvariables[133] = -states[18]*states[19] + states[18]*variables[79]*(1 - states[18])*(states[18] - variables[80])\\n\\t#V_5 = (-u_5*k_5*(u_5 - a_5 - 1) - v_5)*(v_5*mu1_5/(u_5 + mu2_5) + eps0_5)\\n\\tvariables[134] = (-states[18]*variables[79]*(states[18] - variables[80] - 1) - states[19])*(states[19]*variables[83]/(states[18] + variables[84]) + variables[78])\\n\\t#\\\\dot{Tai_1} = -Tai_1*c0_1 + kV_1*c0_1 # c0_1*(-Tai_1 + kV_1*u_1)\\n\\trates[0] = -states[0]*variables[33] + variables[112]*variables[33]\\n\\t#\\\\dot{Ta_1} = -Ta_1*eta2_1 + eta1_1 # -Ta_1*eta2_1 + Tai_1*eta1_1\\n\\trates[1] = -states[1]*variables[111] + variables[110]\\n\\t#\\\\dot{u_1} = \\\\hat{u}_u_5*ct_1*Abs(c_9*Df + c_5*Dn - 0.009150635094610966*Ds) + U_1*ct_1 - 2*ct_1*\\\\hat{u}_u_1 + ct_1*\\\\hat{u}_u_2*Abs(c_9*Dn - 0.025000000000000005*Ds) # ct_1*(U_1*u_1 - 2*u_u_1 + u_u_2*Abs(0.025*Dn - 0.025000000000000005*Ds) + u_u_5*Abs(0.024999999999999998*Df + 0.009150635094610967*Dn - 0.009150635094610966*Ds))\\n\\trates[2] = variables[108]*variables[34]*Abs(variables[16]*variables[1] + variables[21]*variables[3] - 0.009150635094610966*variables[2]) + variables[113]*variables[34] - 2*variables[34]*variables[92] + variables[34]*variables[96]*Abs(variables[16]*variables[3] - 0.025000000000000005*variables[2])\\n\\t#\\\\dot{v_1} = V_1*ct_1 # V_1*ct_1*v_1\\n\\trates[3] = variables[114]*variables[34]\\n\\t#\\\\dot{Tai_2} = -Tai_2*c0_2 + kV_2*c0_2 # c0_2*(-Tai_2 + kV_2*u_2)\\n\\trates[4] = -states[4]*variables[45] + variables[117]*variables[45]\\n\\t#\\\\dot{Ta_2} = -Ta_2*eta2_2 + eta1_2 # -Ta_2*eta2_2 + Tai_2*eta1_2\\n\\trates[5] = -states[5]*variables[116] + variables[115]\\n\\t#\\\\dot{u_2} = \\\\hat{u}_u_3*ct_2*Abs(c_8*Df + c_6*Ds - 0.03306952388982045*Dn) + \\\\hat{u}_u_5*ct_2*Abs(c_4*Ds + Df*c_10 - 0.0074271572555252765*Dn) + U_2*ct_2 + ct_2*\\\\hat{u}_u_1*Abs(c_9*Dn - 0.025000000000000005*Ds) - 3*ct_2*\\\\hat{u}_u_2 # ct_2*(U_2*u_2 + u_u_1*Abs(0.025*Dn - 0.025000000000000005*Ds) - 3*u_u_2 + u_u_3*Abs(0.01909269851976059*Df - 0.03306952388982045*Dn + 0.013976825370059847*Ds) + u_u_5*Abs(0.027718528233424168*Df - 0.0074271572555252765*Dn + 0.007427157255525282*Ds))\\n\\trates[6] = variables[100]*variables[46]*Abs(variables[18]*variables[1] + variables[24]*variables[2] - 0.03306952388982045*variables[3]) + variables[108]*variables[46]*Abs(variables[14]*variables[2] + variables[1]*variables[26] - 0.0074271572555252765*variables[3]) + variables[118]*variables[46] + variables[46]*variables[92]*Abs(variables[16]*variables[3] - 0.025000000000000005*variables[2]) - 3*variables[46]*variables[96]\\n\\t#\\\\dot{v_2} = V_2*ct_2 # V_2*ct_2*v_2\\n\\trates[7] = variables[119]*variables[46]\\n\\t#\\\\dot{Tai_3} = -Tai_3*c0_3 + kV_3*c0_3 # c0_3*(-Tai_3 + kV_3*u_3)\\n\\trates[8] = -states[8]*variables[57] + variables[122]*variables[57]\\n\\t#\\\\dot{Ta_3} = -Ta_3*eta2_3 + eta1_3 # -Ta_3*eta2_3 + Tai_3*eta1_3\\n\\trates[9] = -states[9]*variables[121] + variables[120]\\n\\t#\\\\dot{u_3} = -2*\\\\hat{u}_u_3*ct_3 + \\\\hat{u}_u_4*ct_3*Abs(c_12*Ds + Df*c_14 - 3.46967649079123e-17*Dn) + U_3*ct_3 + ct_3*\\\\hat{u}_u_2*Abs(c_8*Df + c_6*Ds - 0.03306952388982045*Dn) # ct_3*(U_3*u_3 + u_u_2*Abs(0.01909269851976059*Df - 0.03306952388982045*Dn + 0.013976825370059847*Ds) - 2*u_u_3 + u_u_4*Abs(0.05638559245324766*Df - 3.46967649079123e-17*Dn + 0.04127711849064954*Ds))\\n\\trates[10] = -2*variables[100]*variables[58] + variables[104]*variables[58]*Abs(variables[15]*variables[2] + variables[1]*variables[28] - 3.46967649079123e-17*variables[3]) + variables[123]*variables[58] + variables[58]*variables[96]*Abs(variables[18]*variables[1] + variables[24]*variables[2] - 0.03306952388982045*variables[3])\\n\\t#\\\\dot{v_3} = V_3*ct_3 # V_3*ct_3*v_3\\n\\trates[11] = variables[124]*variables[58]\\n\\t#\\\\dot{Tai_4} = -Tai_4*c0_4 + kV_4*c0_4 # c0_4*(-Tai_4 + kV_4*u_4)\\n\\trates[12] = -states[12]*variables[69] + variables[127]*variables[69]\\n\\t#\\\\dot{Ta_4} = -Ta_4*eta2_4 + eta1_4 # -Ta_4*eta2_4 + Tai_4*eta1_4\\n\\trates[13] = -states[13]*variables[126] + variables[125]\\n\\t#\\\\dot{u_4} = i_1_2 + \\\\hat{u}_u_3*ct_4*Abs(c_12*Ds + Df*c_14 - 3.46967649079123e-17*Dn) - \\\\hat{u}_u_4*ct_4 + U_4*ct_4 # ct_4*(U_4*u_4 + u_u_3*Abs(0.05638559245324766*Df - 3.46967649079123e-17*Dn + 0.04127711849064954*Ds) - u_u_4) + i_1_2\\n\\trates[14] = variables[0] + variables[100]*variables[70]*Abs(variables[15]*variables[2] + variables[1]*variables[28] - 3.46967649079123e-17*variables[3]) - variables[104]*variables[70] + variables[128]*variables[70]\\n\\t#\\\\dot{v_4} = V_4*ct_4 # V_4*ct_4*v_4\\n\\trates[15] = variables[129]*variables[70]\\n\\t#\\\\dot{Tai_5} = -Tai_5*c0_5 + kV_5*c0_5 # c0_5*(-Tai_5 + kV_5*u_5)\\n\\trates[16] = -states[16]*variables[81] + variables[132]*variables[81]\\n\\t#\\\\dot{Ta_5} = -Ta_5*eta2_5 + eta1_5 # -Ta_5*eta2_5 + Tai_5*eta1_5\\n\\trates[17] = -states[17]*variables[131] + variables[130]\\n\\t#\\\\dot{u_5} = -2*\\\\hat{u}_u_5*ct_5 + U_5*ct_5 + ct_5*\\\\hat{u}_u_1*Abs(c_9*Df + c_5*Dn - 0.009150635094610966*Ds) + ct_5*\\\\hat{u}_u_2*Abs(c_4*Ds + Df*c_10 - 0.0074271572555252765*Dn) # ct_5*(U_5*u_5 + u_u_1*Abs(0.024999999999999998*Df + 0.009150635094610967*Dn - 0.009150635094610966*Ds) + u_u_2*Abs(0.027718528233424168*Df - 0.0074271572555252765*Dn + 0.007427157255525282*Ds) - 2*u_u_5)\\n\\trates[18] = -2*variables[108]*variables[82] + variables[133]*variables[82] + variables[82]*variables[92]*Abs(variables[16]*variables[1] + variables[21]*variables[3] - 0.009150635094610966*variables[2]) + variables[82]*variables[96]*Abs(variables[14]*variables[2] + variables[1]*variables[26] - 0.0074271572555252765*variables[3])\\n\\t#\\\\dot{v_5} = V_5*ct_5 # V_5*ct_5*v_5\\n\\trates[19] = variables[134]*variables[82]\\n\\ndef compute_inputs(voi,inputs,states,variables):\\n\\t# cell[0] = 0\\n\\tinputs[0] = 0\\n\\t# cell[1] = 0\\n\\tinputs[1] = 0\\n\\t# cell[2] = ct_1*(-2*u_u_1 + u_u_2*Abs(Dn*c_26 - 0.025000000000000005*Ds) + u_u_5*Abs(Df*c_21 + Dn*c_18 - 0.009150635094610966*Ds))\\n\\tinputs[2] = variables[34]*(variables[108]*Abs(variables[16]*variables[1] + variables[21]*variables[3] - 0.009150635094610966*variables[2]) - 2*variables[92] + variables[96]*Abs(variables[16]*variables[3] - 0.025000000000000005*variables[2]))\\n\\t# cell[3] = 0\\n\\tinputs[3] = 0\\n\\t# cell[4] = 0\\n\\tinputs[4] = 0\\n\\t# cell[5] = 0\\n\\tinputs[5] = 0\\n\\t# cell[6] = ct_2*(u_u_1*Abs(Dn*c_26 - 0.025000000000000005*Ds) - 3*u_u_2 + u_u_3*Abs(Df*c_15 - 0.03306952388982045*Dn + Ds*c_23) + u_u_5*Abs(Df*c_27 - 0.0074271572555252765*Dn + Ds*c_11))\\n\\tinputs[6] = variables[46]*(variables[100]*Abs(variables[18]*variables[1] + variables[24]*variables[2] - 0.03306952388982045*variables[3]) + variables[108]*Abs(variables[14]*variables[2] + variables[1]*variables[26] - 0.0074271572555252765*variables[3]) + variables[92]*Abs(variables[16]*variables[3] - 0.025000000000000005*variables[2]) - 3*variables[96])\\n\\t# cell[7] = 0\\n\\tinputs[7] = 0\\n\\t# cell[8] = 0\\n\\tinputs[8] = 0\\n\\t# cell[9] = 0\\n\\tinputs[9] = 0\\n\\t# cell[10] = ct_3*(u_u_2*Abs(Df*c_15 - 0.03306952388982045*Dn + Ds*c_23) - 2*u_u_3 + u_u_4*Abs(Df*c_31 - 3.46967649079123e-17*Dn + Ds*c_12))\\n\\tinputs[10] = variables[58]*(-2*variables[100] + variables[104]*Abs(variables[15]*variables[2] + variables[1]*variables[28] - 3.46967649079123e-17*variables[3]) + variables[96]*Abs(variables[18]*variables[1] + variables[24]*variables[2] - 0.03306952388982045*variables[3]))\\n\\t# cell[11] = 0\\n\\tinputs[11] = 0\\n\\t# cell[12] = 0\\n\\tinputs[12] = 0\\n\\t# cell[13] = 0\\n\\tinputs[13] = 0\\n\\t# cell[14] = ct_4*(u_u_3*Abs(Df*c_31 - 3.46967649079123e-17*Dn + Ds*c_12) - u_u_4 + i_1_2/ct_4)\\n\\tinputs[14] = variables[70]*(variables[0]/variables[70] + variables[100]*Abs(variables[15]*variables[2] + variables[1]*variables[28] - 3.46967649079123e-17*variables[3]) - variables[104])\\n\\t# cell[15] = 0\\n\\tinputs[15] = 0\\n\\t# cell[16] = 0\\n\\tinputs[16] = 0\\n\\t# cell[17] = 0\\n\\tinputs[17] = 0\\n\\t# cell[18] = ct_5*(u_u_1*Abs(Df*c_21 + Dn*c_18 - 0.009150635094610966*Ds) + u_u_2*Abs(Df*c_27 - 0.0074271572555252765*Dn + Ds*c_11) - 2*u_u_5)\\n\\tinputs[18] = variables[82]*(-2*variables[108] + variables[92]*Abs(variables[16]*variables[1] + variables[21]*variables[3] - 0.009150635094610966*variables[2]) + variables[96]*Abs(variables[14]*variables[2] + variables[1]*variables[26] - 0.0074271572555252765*variables[3]))\\n\\t# cell[19] = 0\\n\\tinputs[19] = 0\\n\\nfrom math import exp\\n\\ndef process_time_sensitive_events(voi, states, rates, variables):\\n    \"\"\"Method to process events such as (re)setting inputs, updating switches etc\\n        Unline process_events, this method is called in rhs calculation\\n        Useful to ensure that time sensitive inputs are set espcially if ode integrator timestep spans over the \\n        input time. Note that this should be re-entrant i.e. not modify states, else this will\\n        lead to solver dependent behaviour, esp. solvers that use multiple steps\\n        The method is called before each rhs evelauation\\n    Args:\\n        voi (int) : Current value of the variable of integration (time)\\n        states (np.array): A vectors of model states\\n        variables (_type_): A vector of model variables\\n    \"\"\"\\n    #External input variables - listed to help code event processing logic\\n    #\\ti_1_2 -> variables[0]\\n\\n    #Comment the line below (and uncomment the line after) to solve the model without event processing!    \\n    #raise(\"Process time sensitive events not implemented\")\\n    #pass\\n    variables[0] = 0.0\\n    if voi > 100 and voi < 110:\\n        variables[0] = 0.5\\n    #Following needs to be performed to set internal inputs from current state values\\n    compute_variables(voi,states,rates,variables)    \\n    \\ndef process_events(voi, states,variables):\\n    \"\"\"Method to process events such as (re)setting inputs, updating switches etc\\n        The method is called after each successful ode step\\n    Args:\\n        voi (int) : Current value of the variable of integration (time)\\n        states (np.array): A vectors of model states\\n        variables (_type_): A vector of model variables\\n    \"\"\"\\n    #External input variables - listed to help code event processing logic\\n    #\\ti_1_2 -> variables[0]\\n\\n\\n    #Comment the line below (and uncomment the line after) to solve the model without event processing!    \\n    #raise(\"Process events not implemented\")\\n\\n    pass\\n\\nrates = np.zeros(STATE_COUNT)\\n\\ndef rhs(voi, states, variables):\\n    #Perform (re)setting of inputs, time sensitive event processing etc\\n    process_time_sensitive_events(voi,states,rates,variables)    \\n    #Compute rates\\n    compute_rates(voi,states,rates,variables)\\n    return rates\\n\\ndef solve_model(starttime=0,stoptime=300,steps=300):\\n    \"\"\"Solve model with ODE solver\"\"\"\\n    from scipy.integrate import ode\\n    import numpy as np\\n    # Initialise constants and state variables\\n    states = create_states_array()\\n    variables = create_variables_array()\\n    initialise_variables(states,variables)\\n    # Set timespan to solve over\\n    voi = np.linspace(starttime, stoptime, steps)\\n\\n    # Construct ODE object to solve\\n    r = ode(rhs)\\n    r.set_integrator(\\'vode\\', method=\\'bdf\\', atol=1e-06, rtol=1e-06, max_step=1)\\n    r.set_initial_value(states, voi[0])\\n    r.set_f_params(variables)\\n\\n    # Solve model\\n    result = np.zeros((STATE_COUNT,steps))\\n    result[:,0] = states    \\n    for (i,t) in enumerate(voi[1:]):\\n        if r.successful():\\n            r.integrate(t)\\n            result[:,i+1] = r.y\\n            states = r.y\\n            #Perform event processing etc\\n            process_events(t,states,variables)\\n        else:\\n            break\\n\\n    return (voi, result, variables)\\n\\nimport matplotlib.pyplot as plt\\nif __name__ == \\'__main__\\':\\n    t,r,v = solve_model()\\n    grid = plt.GridSpec(2, 3, wspace=0.2, hspace=0.5)\\n\\n    ix = 0\\n    for i in range(2):\\n        for j in range(3):\\n            ax = plt.subplot(grid[i, j])\\n            ax.plot(r[ix,:])\\n            ax.title.set_text(f\\'{ix//4+1}\\')\\n            ix += 4\\n            if ix+4 > r.shape[0]:\\n                break\\n    plt.subplots_adjust(hspace=0.3)\\n    plt.subplots_adjust(wspace=0.3)\\n    plt.show() \\n'"
      ]
     },
     "execution_count": 13,
     "metadata": {},
     "output_type": "execute_result"
    }
   ],
   "source": [
    "composer.exportAsPython()"
   ]
  },
  {
   "cell_type": "code",
   "execution_count": 14,
   "metadata": {},
   "outputs": [
    {
     "data": {
      "text/latex": [
       "$\\displaystyle ct_{1} \\left(U_{1} u_{1} - 2 u_{u 1} + u_{u 2} \\left|{0.025 Dn - 0.025000000000000005 Ds}\\right| + u_{u 5} \\left|{0.024999999999999998 Df + 0.009150635094610967 Dn - 0.009150635094610966 Ds}\\right|\\right)$"
      ],
      "text/plain": [
       "ct_1*(U_1*u_1 - 2*u_u_1 + u_u_2*Abs(0.025*Dn - 0.025000000000000005*Ds) + u_u_5*Abs(0.024999999999999998*Df + 0.009150635094610967*Dn - 0.009150635094610966*Ds))"
      ]
     },
     "execution_count": 14,
     "metadata": {},
     "output_type": "execute_result"
    }
   ],
   "source": [
    "rhs[2]"
   ]
  }
 ],
 "metadata": {
  "kernelspec": {
   "display_name": "Python 3",
   "language": "python",
   "name": "python3"
  },
  "language_info": {
   "codemirror_mode": {
    "name": "ipython",
    "version": 3
   },
   "file_extension": ".py",
   "mimetype": "text/x-python",
   "name": "python",
   "nbconvert_exporter": "python",
   "pygments_lexer": "ipython3",
   "version": "3.9.18"
  }
 },
 "nbformat": 4,
 "nbformat_minor": 2
}
