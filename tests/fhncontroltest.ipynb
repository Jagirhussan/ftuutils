{
 "cells": [
  {
   "cell_type": "code",
   "execution_count": 17,
   "metadata": {},
   "outputs": [],
   "source": [
    "#Package import for handling json data\n",
    "import json\n",
    "#Package imports to support FTU generation\n",
    "from ftuutils import graphutils, phsutils\n",
    "from copy import deepcopy\n",
    "import networkx as nx"
   ]
  },
  {
   "cell_type": "code",
   "execution_count": 18,
   "metadata": {},
   "outputs": [],
   "source": [
    "phsval = '{\"parameter_values\":{\"mu\":{\"value\":\"0.02\",\"units\":\"dimensionless\"},\"a\":{\"value\":\"0.15\",\"units\":\"dimensionless\"},\"M\":{\"value\":\"v*v*v/3-v\",\"units\":\"dimensionless\"},\"g\":{\"value\":\"1.3\",\"units\":\"dimensionless\"}},\"Hderivatives\":{\"cols\":1,\"rows\":2,\"elements\":[\"v/2\",\"w/2\"]},\"hamiltonianLatex\":\"v**2/2 + w**2/2\",\"hamiltonian\":\"1/2*v**2 + 1/2*w**2\",\"portHamiltonianMatrices\":{\"matJ\":{\"cols\":2,\"rows\":2,\"elements\":[\"0\",\"-1\",\"1\",\"0\"]},\"matR\":{\"cols\":2,\"rows\":2,\"elements\":[\"M\",\"0\",\"0\",\"g\"]},\"matB\":{\"cols\":2,\"rows\":2,\"elements\":[\"a\",\"0\",\"0\",\"1\"]},\"matBhat\":{\"cols\":0,\"rows\":0,\"elements\":[]},\"matQ\":{\"cols\":2,\"rows\":2,\"elements\":[\"1\",\"0\",\"0\",\"1\"]},\"matE\":{\"cols\":2,\"rows\":2,\"elements\":[\"1/a\",\"0\",\"0\",\"1/mu\"]},\"matC\":{\"cols\":0,\"rows\":0,\"elements\":[]},\"u\":{\"cols\":1,\"rows\":2,\"elements\":[\"istim\",\"beta\"]},\"u_connect2boundary\":{\"cols\":1,\"elements\":[false,false],\"rows\":2}},\"stateVector\":{\"cols\":1,\"rows\":2,\"elements\":[\"v\",\"w\"]},\"state_values\":{\"v\":{\"value\":-1.2,\"units\":\"dimensionless\"},\"w\":{\"value\":0.0,\"units\":\"dimensionless\"}},\"isphenomenological\":false,\"success\":true}'  \n",
    "phsinstance1 = json.loads(phsval)\n",
    "phsinstance2 = deepcopy(phsinstance1) #Do a deepcopy else same instance is shared and issues with network splits will crop up\n",
    "\n",
    "phstypes = {'FHN1':phsinstance1,'FHN2':phsinstance2}"
   ]
  },
  {
   "cell_type": "code",
   "execution_count": 19,
   "metadata": {},
   "outputs": [],
   "source": [
    "g = graphutils.Lattice2D(3,3,'FHN1')\n",
    "g.setFibreConductivity(1.5)\n",
    "g.setSheetConductivity(0.9)    \n",
    "\n",
    "#Setup FHN2 types\n",
    "nxg = g.getGraph()\n",
    "ctypes = nx.get_node_attributes(nxg,\"phs\")\n",
    "for ein in [4,7,8,9]:\n",
    "    ctypes[ein] = 'FHN2'\n",
    "nx.set_node_attributes(nxg,ctypes,\"phs\")"
   ]
  },
  {
   "cell_type": "code",
   "execution_count": 20,
   "metadata": {},
   "outputs": [],
   "source": [
    "#Provide a dictionary to store connection information\n",
    "phsdata = {}\n",
    "\n",
    "#Specify for each PHS class, for each input component the network on which it connects\n",
    "phsdata = phsutils.connect(phsdata , 'FHN1','istim',1) #Connection on u\n",
    "phsdata = phsutils.connect(phsdata , 'FHN2','istim',1) #Connection on u\n",
    "\n",
    "#Boundary connections can be specified as below. As a convention, boundary networks are negatively numbered\n",
    "phsdata = phsutils.connectToBoundary(phsdata, 'FHN1','beta',-1) #Boundary connection for beta\n",
    "phsdata = phsutils.connectToBoundary(phsdata, 'FHN2','beta',-2) #Boundary connection for beta\n",
    "\n",
    "for ein in [3]:\n",
    "    phsdata = phsutils.addExternalInput(phsdata,ein,'istim',-3)\n"
   ]
  },
  {
   "cell_type": "code",
   "execution_count": 21,
   "metadata": {},
   "outputs": [],
   "source": [
    "#Set which networks are dissipative and add the information to the phsdata dictionary\n",
    "\n",
    "networkDissipation = {1:True}\n",
    "networkNames = {1:\"ucap\",-1:\"threshold\",-2:\"autonodes\",-3:\"ubar\"}\n",
    "\n",
    "phsdata[\"networkNames\"] = networkNames\n",
    "phsdata[\"networkDissipation\"] = networkDissipation\n",
    "\n",
    "composer = g.composeCompositePHS(nxg,phstypes,phsdata,substituteParameters=False)"
   ]
  },
  {
   "cell_type": "code",
   "execution_count": 22,
   "metadata": {},
   "outputs": [],
   "source": [
    "import sympy"
   ]
  },
  {
   "cell_type": "code",
   "execution_count": 23,
   "metadata": {},
   "outputs": [
    {
     "data": {
      "text/latex": [
       "$\\displaystyle \\left[\\begin{matrix}0 & 0 & 0\\\\0 & 1 & 0\\\\0 & 0 & 0\\\\0 & 1 & 0\\\\FHN_{1 a 3} & 0 & 0\\\\0 & 1 & 0\\\\0 & 0 & 0\\\\0 & 0 & 1\\\\0 & 0 & 0\\\\0 & 1 & 0\\\\0 & 0 & 0\\\\0 & 1 & 0\\\\0 & 0 & 0\\\\0 & 0 & 1\\\\0 & 0 & 0\\\\0 & 0 & 1\\\\0 & 0 & 0\\\\0 & 0 & 1\\end{matrix}\\right]$"
      ],
      "text/plain": [
       "Matrix([\n",
       "[       0, 0, 0],\n",
       "[       0, 1, 0],\n",
       "[       0, 0, 0],\n",
       "[       0, 1, 0],\n",
       "[FHN1_a_3, 0, 0],\n",
       "[       0, 1, 0],\n",
       "[       0, 0, 0],\n",
       "[       0, 0, 1],\n",
       "[       0, 0, 0],\n",
       "[       0, 1, 0],\n",
       "[       0, 0, 0],\n",
       "[       0, 1, 0],\n",
       "[       0, 0, 0],\n",
       "[       0, 0, 1],\n",
       "[       0, 0, 0],\n",
       "[       0, 0, 1],\n",
       "[       0, 0, 0],\n",
       "[       0, 0, 1]])"
      ]
     },
     "execution_count": 23,
     "metadata": {},
     "output_type": "execute_result"
    }
   ],
   "source": [
    "composer.compositePHS.Bhat"
   ]
  },
  {
   "cell_type": "code",
   "execution_count": 24,
   "metadata": {},
   "outputs": [
    {
     "data": {
      "text/plain": [
       "'\\\\left[\\\\begin{array}{cccccccccccccccccc}2.4 & 0 & -1.5 & 0 & 0 & 0 & -0.9 & 0 & 0 & 0 & 0 & 0 & 0 & 0 & 0 & 0 & 0 & 0\\\\\\\\0 & 0 & 0 & 0 & 0 & 0 & 0 & 0 & 0 & 0 & 0 & 0 & 0 & 0 & 0 & 0 & 0 & 0\\\\\\\\-1.5 & 0 & 3.9 & 0 & -1.5 & 0 & 0 & 0 & -0.9 & 0 & 0 & 0 & 0 & 0 & 0 & 0 & 0 & 0\\\\\\\\0 & 0 & 0 & 0 & 0 & 0 & 0 & 0 & 0 & 0 & 0 & 0 & 0 & 0 & 0 & 0 & 0 & 0\\\\\\\\0 & 0 & -1.5 & 0 & 2.4 & 0 & 0 & 0 & 0 & 0 & -0.9 & 0 & 0 & 0 & 0 & 0 & 0 & 0\\\\\\\\0 & 0 & 0 & 0 & 0 & 0 & 0 & 0 & 0 & 0 & 0 & 0 & 0 & 0 & 0 & 0 & 0 & 0\\\\\\\\-0.9 & 0 & 0 & 0 & 0 & 0 & 3.3 & 0 & -1.5 & 0 & 0 & 0 & -0.9 & 0 & 0 & 0 & 0 & 0\\\\\\\\0 & 0 & 0 & 0 & 0 & 0 & 0 & 0 & 0 & 0 & 0 & 0 & 0 & 0 & 0 & 0 & 0 & 0\\\\\\\\0 & 0 & -0.9 & 0 & 0 & 0 & -1.5 & 0 & 4.8 & 0 & -1.5 & 0 & 0 & 0 & -0.9 & 0 & 0 & 0\\\\\\\\0 & 0 & 0 & 0 & 0 & 0 & 0 & 0 & 0 & 0 & 0 & 0 & 0 & 0 & 0 & 0 & 0 & 0\\\\\\\\0 & 0 & 0 & 0 & -0.9 & 0 & 0 & 0 & -1.5 & 0 & 3.3 & 0 & 0 & 0 & 0 & 0 & -0.9 & 0\\\\\\\\0 & 0 & 0 & 0 & 0 & 0 & 0 & 0 & 0 & 0 & 0 & 0 & 0 & 0 & 0 & 0 & 0 & 0\\\\\\\\0 & 0 & 0 & 0 & 0 & 0 & -0.9 & 0 & 0 & 0 & 0 & 0 & 2.4 & 0 & -1.5 & 0 & 0 & 0\\\\\\\\0 & 0 & 0 & 0 & 0 & 0 & 0 & 0 & 0 & 0 & 0 & 0 & 0 & 0 & 0 & 0 & 0 & 0\\\\\\\\0 & 0 & 0 & 0 & 0 & 0 & 0 & 0 & -0.9 & 0 & 0 & 0 & -1.5 & 0 & 3.9 & 0 & -1.5 & 0\\\\\\\\0 & 0 & 0 & 0 & 0 & 0 & 0 & 0 & 0 & 0 & 0 & 0 & 0 & 0 & 0 & 0 & 0 & 0\\\\\\\\0 & 0 & 0 & 0 & 0 & 0 & 0 & 0 & 0 & 0 & -0.9 & 0 & 0 & 0 & -1.5 & 0 & 2.4 & 0\\\\\\\\0 & 0 & 0 & 0 & 0 & 0 & 0 & 0 & 0 & 0 & 0 & 0 & 0 & 0 & 0 & 0 & 0 & 0\\\\end{array}\\\\right]'"
      ]
     },
     "execution_count": 24,
     "metadata": {},
     "output_type": "execute_result"
    }
   ],
   "source": [
    "\n",
    "sympy.latex(composer.compositePHS.C)"
   ]
  }
 ],
 "metadata": {
  "kernelspec": {
   "display_name": "Python 3",
   "language": "python",
   "name": "python3"
  },
  "language_info": {
   "codemirror_mode": {
    "name": "ipython",
    "version": 3
   },
   "file_extension": ".py",
   "mimetype": "text/x-python",
   "name": "python",
   "nbconvert_exporter": "python",
   "pygments_lexer": "ipython3",
   "version": "3.9.18"
  }
 },
 "nbformat": 4,
 "nbformat_minor": 2
}
